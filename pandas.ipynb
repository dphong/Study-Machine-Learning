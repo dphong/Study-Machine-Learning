{
 "cells": [
  {
   "cell_type": "code",
   "execution_count": 1,
   "metadata": {},
   "outputs": [],
   "source": [
    "import numpy as np\n",
    "import pandas as pd"
   ]
  },
  {
   "cell_type": "code",
   "execution_count": 2,
   "metadata": {},
   "outputs": [],
   "source": [
    "s = pd.Series([i*2 for i in range(1,11)])"
   ]
  },
  {
   "cell_type": "code",
   "execution_count": 3,
   "metadata": {},
   "outputs": [
    {
     "data": {
      "text/plain": [
       "pandas.core.series.Series"
      ]
     },
     "execution_count": 3,
     "metadata": {},
     "output_type": "execute_result"
    }
   ],
   "source": [
    "type(s)"
   ]
  },
  {
   "cell_type": "code",
   "execution_count": 4,
   "metadata": {},
   "outputs": [],
   "source": [
    "dates = pd.date_range(\"20170301\", periods=8)"
   ]
  },
  {
   "cell_type": "code",
   "execution_count": 5,
   "metadata": {},
   "outputs": [
    {
     "data": {
      "text/plain": [
       "DatetimeIndex(['2017-03-01', '2017-03-02', '2017-03-03', '2017-03-04',\n",
       "               '2017-03-05', '2017-03-06', '2017-03-07', '2017-03-08'],\n",
       "              dtype='datetime64[ns]', freq='D')"
      ]
     },
     "execution_count": 5,
     "metadata": {},
     "output_type": "execute_result"
    }
   ],
   "source": [
    "dates "
   ]
  },
  {
   "cell_type": "code",
   "execution_count": 6,
   "metadata": {},
   "outputs": [],
   "source": [
    "df = pd.DataFrame(np.random.randn(8,5), index=dates, columns=list(\"ABCDE\"))"
   ]
  },
  {
   "cell_type": "code",
   "execution_count": 7,
   "metadata": {},
   "outputs": [
    {
     "data": {
      "text/html": [
       "<div>\n",
       "<style scoped>\n",
       "    .dataframe tbody tr th:only-of-type {\n",
       "        vertical-align: middle;\n",
       "    }\n",
       "\n",
       "    .dataframe tbody tr th {\n",
       "        vertical-align: top;\n",
       "    }\n",
       "\n",
       "    .dataframe thead th {\n",
       "        text-align: right;\n",
       "    }\n",
       "</style>\n",
       "<table border=\"1\" class=\"dataframe\">\n",
       "  <thead>\n",
       "    <tr style=\"text-align: right;\">\n",
       "      <th></th>\n",
       "      <th>A</th>\n",
       "      <th>B</th>\n",
       "      <th>C</th>\n",
       "      <th>D</th>\n",
       "      <th>E</th>\n",
       "    </tr>\n",
       "  </thead>\n",
       "  <tbody>\n",
       "    <tr>\n",
       "      <th>2017-03-01</th>\n",
       "      <td>0.487068</td>\n",
       "      <td>-2.032283</td>\n",
       "      <td>2.013236</td>\n",
       "      <td>-0.495538</td>\n",
       "      <td>1.093592</td>\n",
       "    </tr>\n",
       "    <tr>\n",
       "      <th>2017-03-02</th>\n",
       "      <td>0.148779</td>\n",
       "      <td>-0.489064</td>\n",
       "      <td>0.457113</td>\n",
       "      <td>-1.066058</td>\n",
       "      <td>-1.516994</td>\n",
       "    </tr>\n",
       "    <tr>\n",
       "      <th>2017-03-03</th>\n",
       "      <td>-0.858989</td>\n",
       "      <td>-0.193274</td>\n",
       "      <td>-0.727730</td>\n",
       "      <td>-2.344433</td>\n",
       "      <td>0.825392</td>\n",
       "    </tr>\n",
       "    <tr>\n",
       "      <th>2017-03-04</th>\n",
       "      <td>-0.777631</td>\n",
       "      <td>-1.458266</td>\n",
       "      <td>-0.309941</td>\n",
       "      <td>-0.582157</td>\n",
       "      <td>-0.113530</td>\n",
       "    </tr>\n",
       "    <tr>\n",
       "      <th>2017-03-05</th>\n",
       "      <td>0.849273</td>\n",
       "      <td>-0.426831</td>\n",
       "      <td>0.483389</td>\n",
       "      <td>1.274338</td>\n",
       "      <td>-0.472163</td>\n",
       "    </tr>\n",
       "    <tr>\n",
       "      <th>2017-03-06</th>\n",
       "      <td>0.782149</td>\n",
       "      <td>1.559336</td>\n",
       "      <td>-0.364098</td>\n",
       "      <td>-0.065283</td>\n",
       "      <td>0.560928</td>\n",
       "    </tr>\n",
       "    <tr>\n",
       "      <th>2017-03-07</th>\n",
       "      <td>-1.516858</td>\n",
       "      <td>0.134917</td>\n",
       "      <td>-1.235108</td>\n",
       "      <td>-1.276140</td>\n",
       "      <td>0.552164</td>\n",
       "    </tr>\n",
       "    <tr>\n",
       "      <th>2017-03-08</th>\n",
       "      <td>-0.509215</td>\n",
       "      <td>-1.428890</td>\n",
       "      <td>2.505544</td>\n",
       "      <td>1.035858</td>\n",
       "      <td>-1.736261</td>\n",
       "    </tr>\n",
       "  </tbody>\n",
       "</table>\n",
       "</div>"
      ],
      "text/plain": [
       "                   A         B         C         D         E\n",
       "2017-03-01  0.487068 -2.032283  2.013236 -0.495538  1.093592\n",
       "2017-03-02  0.148779 -0.489064  0.457113 -1.066058 -1.516994\n",
       "2017-03-03 -0.858989 -0.193274 -0.727730 -2.344433  0.825392\n",
       "2017-03-04 -0.777631 -1.458266 -0.309941 -0.582157 -0.113530\n",
       "2017-03-05  0.849273 -0.426831  0.483389  1.274338 -0.472163\n",
       "2017-03-06  0.782149  1.559336 -0.364098 -0.065283  0.560928\n",
       "2017-03-07 -1.516858  0.134917 -1.235108 -1.276140  0.552164\n",
       "2017-03-08 -0.509215 -1.428890  2.505544  1.035858 -1.736261"
      ]
     },
     "execution_count": 7,
     "metadata": {},
     "output_type": "execute_result"
    }
   ],
   "source": [
    "df"
   ]
  },
  {
   "cell_type": "code",
   "execution_count": 8,
   "metadata": {},
   "outputs": [
    {
     "data": {
      "text/html": [
       "<div>\n",
       "<style scoped>\n",
       "    .dataframe tbody tr th:only-of-type {\n",
       "        vertical-align: middle;\n",
       "    }\n",
       "\n",
       "    .dataframe tbody tr th {\n",
       "        vertical-align: top;\n",
       "    }\n",
       "\n",
       "    .dataframe thead th {\n",
       "        text-align: right;\n",
       "    }\n",
       "</style>\n",
       "<table border=\"1\" class=\"dataframe\">\n",
       "  <thead>\n",
       "    <tr style=\"text-align: right;\">\n",
       "      <th></th>\n",
       "      <th>A</th>\n",
       "      <th>B</th>\n",
       "      <th>C</th>\n",
       "      <th>D</th>\n",
       "      <th>E</th>\n",
       "    </tr>\n",
       "  </thead>\n",
       "  <tbody>\n",
       "    <tr>\n",
       "      <th>2017-03-01</th>\n",
       "      <td>0.487068</td>\n",
       "      <td>-2.032283</td>\n",
       "      <td>2.013236</td>\n",
       "      <td>-0.495538</td>\n",
       "      <td>1.093592</td>\n",
       "    </tr>\n",
       "    <tr>\n",
       "      <th>2017-03-02</th>\n",
       "      <td>0.148779</td>\n",
       "      <td>-0.489064</td>\n",
       "      <td>0.457113</td>\n",
       "      <td>-1.066058</td>\n",
       "      <td>-1.516994</td>\n",
       "    </tr>\n",
       "    <tr>\n",
       "      <th>2017-03-03</th>\n",
       "      <td>-0.858989</td>\n",
       "      <td>-0.193274</td>\n",
       "      <td>-0.727730</td>\n",
       "      <td>-2.344433</td>\n",
       "      <td>0.825392</td>\n",
       "    </tr>\n",
       "  </tbody>\n",
       "</table>\n",
       "</div>"
      ],
      "text/plain": [
       "                   A         B         C         D         E\n",
       "2017-03-01  0.487068 -2.032283  2.013236 -0.495538  1.093592\n",
       "2017-03-02  0.148779 -0.489064  0.457113 -1.066058 -1.516994\n",
       "2017-03-03 -0.858989 -0.193274 -0.727730 -2.344433  0.825392"
      ]
     },
     "execution_count": 8,
     "metadata": {},
     "output_type": "execute_result"
    }
   ],
   "source": [
    "df.head(3)"
   ]
  },
  {
   "cell_type": "code",
   "execution_count": 9,
   "metadata": {},
   "outputs": [
    {
     "data": {
      "text/html": [
       "<div>\n",
       "<style scoped>\n",
       "    .dataframe tbody tr th:only-of-type {\n",
       "        vertical-align: middle;\n",
       "    }\n",
       "\n",
       "    .dataframe tbody tr th {\n",
       "        vertical-align: top;\n",
       "    }\n",
       "\n",
       "    .dataframe thead th {\n",
       "        text-align: right;\n",
       "    }\n",
       "</style>\n",
       "<table border=\"1\" class=\"dataframe\">\n",
       "  <thead>\n",
       "    <tr style=\"text-align: right;\">\n",
       "      <th></th>\n",
       "      <th>A</th>\n",
       "      <th>B</th>\n",
       "      <th>C</th>\n",
       "      <th>D</th>\n",
       "      <th>E</th>\n",
       "    </tr>\n",
       "  </thead>\n",
       "  <tbody>\n",
       "    <tr>\n",
       "      <th>2017-03-06</th>\n",
       "      <td>0.782149</td>\n",
       "      <td>1.559336</td>\n",
       "      <td>-0.364098</td>\n",
       "      <td>-0.065283</td>\n",
       "      <td>0.560928</td>\n",
       "    </tr>\n",
       "    <tr>\n",
       "      <th>2017-03-07</th>\n",
       "      <td>-1.516858</td>\n",
       "      <td>0.134917</td>\n",
       "      <td>-1.235108</td>\n",
       "      <td>-1.276140</td>\n",
       "      <td>0.552164</td>\n",
       "    </tr>\n",
       "    <tr>\n",
       "      <th>2017-03-08</th>\n",
       "      <td>-0.509215</td>\n",
       "      <td>-1.428890</td>\n",
       "      <td>2.505544</td>\n",
       "      <td>1.035858</td>\n",
       "      <td>-1.736261</td>\n",
       "    </tr>\n",
       "  </tbody>\n",
       "</table>\n",
       "</div>"
      ],
      "text/plain": [
       "                   A         B         C         D         E\n",
       "2017-03-06  0.782149  1.559336 -0.364098 -0.065283  0.560928\n",
       "2017-03-07 -1.516858  0.134917 -1.235108 -1.276140  0.552164\n",
       "2017-03-08 -0.509215 -1.428890  2.505544  1.035858 -1.736261"
      ]
     },
     "execution_count": 9,
     "metadata": {},
     "output_type": "execute_result"
    }
   ],
   "source": [
    "df.tail(3)"
   ]
  },
  {
   "cell_type": "code",
   "execution_count": 10,
   "metadata": {},
   "outputs": [
    {
     "data": {
      "text/plain": [
       "DatetimeIndex(['2017-03-01', '2017-03-02', '2017-03-03', '2017-03-04',\n",
       "               '2017-03-05', '2017-03-06', '2017-03-07', '2017-03-08'],\n",
       "              dtype='datetime64[ns]', freq='D')"
      ]
     },
     "execution_count": 10,
     "metadata": {},
     "output_type": "execute_result"
    }
   ],
   "source": [
    "df.index"
   ]
  },
  {
   "cell_type": "code",
   "execution_count": 11,
   "metadata": {},
   "outputs": [
    {
     "data": {
      "text/plain": [
       "array([[ 0.48706819, -2.03228287,  2.01323569, -0.49553846,  1.09359235],\n",
       "       [ 0.14877899, -0.48906354,  0.45711349, -1.06605768, -1.51699419],\n",
       "       [-0.85898858, -0.19327446, -0.72773017, -2.34443277,  0.82539233],\n",
       "       [-0.77763053, -1.45826587, -0.30994123, -0.58215703, -0.11353006],\n",
       "       [ 0.84927275, -0.42683129,  0.48338928,  1.27433763, -0.4721627 ],\n",
       "       [ 0.78214872,  1.55933624, -0.36409762, -0.06528297,  0.56092792],\n",
       "       [-1.51685758,  0.13491702, -1.23510785, -1.27614032,  0.55216368],\n",
       "       [-0.50921472, -1.42888964,  2.5055438 ,  1.03585764, -1.7362608 ]])"
      ]
     },
     "execution_count": 11,
     "metadata": {},
     "output_type": "execute_result"
    }
   ],
   "source": [
    "df.values"
   ]
  },
  {
   "cell_type": "code",
   "execution_count": 12,
   "metadata": {},
   "outputs": [
    {
     "data": {
      "text/html": [
       "<div>\n",
       "<style scoped>\n",
       "    .dataframe tbody tr th:only-of-type {\n",
       "        vertical-align: middle;\n",
       "    }\n",
       "\n",
       "    .dataframe tbody tr th {\n",
       "        vertical-align: top;\n",
       "    }\n",
       "\n",
       "    .dataframe thead th {\n",
       "        text-align: right;\n",
       "    }\n",
       "</style>\n",
       "<table border=\"1\" class=\"dataframe\">\n",
       "  <thead>\n",
       "    <tr style=\"text-align: right;\">\n",
       "      <th></th>\n",
       "      <th>2017-03-01 00:00:00</th>\n",
       "      <th>2017-03-02 00:00:00</th>\n",
       "      <th>2017-03-03 00:00:00</th>\n",
       "      <th>2017-03-04 00:00:00</th>\n",
       "      <th>2017-03-05 00:00:00</th>\n",
       "      <th>2017-03-06 00:00:00</th>\n",
       "      <th>2017-03-07 00:00:00</th>\n",
       "      <th>2017-03-08 00:00:00</th>\n",
       "    </tr>\n",
       "  </thead>\n",
       "  <tbody>\n",
       "    <tr>\n",
       "      <th>A</th>\n",
       "      <td>0.487068</td>\n",
       "      <td>0.148779</td>\n",
       "      <td>-0.858989</td>\n",
       "      <td>-0.777631</td>\n",
       "      <td>0.849273</td>\n",
       "      <td>0.782149</td>\n",
       "      <td>-1.516858</td>\n",
       "      <td>-0.509215</td>\n",
       "    </tr>\n",
       "    <tr>\n",
       "      <th>B</th>\n",
       "      <td>-2.032283</td>\n",
       "      <td>-0.489064</td>\n",
       "      <td>-0.193274</td>\n",
       "      <td>-1.458266</td>\n",
       "      <td>-0.426831</td>\n",
       "      <td>1.559336</td>\n",
       "      <td>0.134917</td>\n",
       "      <td>-1.428890</td>\n",
       "    </tr>\n",
       "    <tr>\n",
       "      <th>C</th>\n",
       "      <td>2.013236</td>\n",
       "      <td>0.457113</td>\n",
       "      <td>-0.727730</td>\n",
       "      <td>-0.309941</td>\n",
       "      <td>0.483389</td>\n",
       "      <td>-0.364098</td>\n",
       "      <td>-1.235108</td>\n",
       "      <td>2.505544</td>\n",
       "    </tr>\n",
       "    <tr>\n",
       "      <th>D</th>\n",
       "      <td>-0.495538</td>\n",
       "      <td>-1.066058</td>\n",
       "      <td>-2.344433</td>\n",
       "      <td>-0.582157</td>\n",
       "      <td>1.274338</td>\n",
       "      <td>-0.065283</td>\n",
       "      <td>-1.276140</td>\n",
       "      <td>1.035858</td>\n",
       "    </tr>\n",
       "    <tr>\n",
       "      <th>E</th>\n",
       "      <td>1.093592</td>\n",
       "      <td>-1.516994</td>\n",
       "      <td>0.825392</td>\n",
       "      <td>-0.113530</td>\n",
       "      <td>-0.472163</td>\n",
       "      <td>0.560928</td>\n",
       "      <td>0.552164</td>\n",
       "      <td>-1.736261</td>\n",
       "    </tr>\n",
       "  </tbody>\n",
       "</table>\n",
       "</div>"
      ],
      "text/plain": [
       "   2017-03-01  2017-03-02  2017-03-03  2017-03-04  2017-03-05  2017-03-06  \\\n",
       "A    0.487068    0.148779   -0.858989   -0.777631    0.849273    0.782149   \n",
       "B   -2.032283   -0.489064   -0.193274   -1.458266   -0.426831    1.559336   \n",
       "C    2.013236    0.457113   -0.727730   -0.309941    0.483389   -0.364098   \n",
       "D   -0.495538   -1.066058   -2.344433   -0.582157    1.274338   -0.065283   \n",
       "E    1.093592   -1.516994    0.825392   -0.113530   -0.472163    0.560928   \n",
       "\n",
       "   2017-03-07  2017-03-08  \n",
       "A   -1.516858   -0.509215  \n",
       "B    0.134917   -1.428890  \n",
       "C   -1.235108    2.505544  \n",
       "D   -1.276140    1.035858  \n",
       "E    0.552164   -1.736261  "
      ]
     },
     "execution_count": 12,
     "metadata": {},
     "output_type": "execute_result"
    }
   ],
   "source": [
    "df.T"
   ]
  },
  {
   "cell_type": "code",
   "execution_count": 13,
   "metadata": {},
   "outputs": [
    {
     "data": {
      "text/html": [
       "<div>\n",
       "<style scoped>\n",
       "    .dataframe tbody tr th:only-of-type {\n",
       "        vertical-align: middle;\n",
       "    }\n",
       "\n",
       "    .dataframe tbody tr th {\n",
       "        vertical-align: top;\n",
       "    }\n",
       "\n",
       "    .dataframe thead th {\n",
       "        text-align: right;\n",
       "    }\n",
       "</style>\n",
       "<table border=\"1\" class=\"dataframe\">\n",
       "  <thead>\n",
       "    <tr style=\"text-align: right;\">\n",
       "      <th></th>\n",
       "      <th>E</th>\n",
       "      <th>D</th>\n",
       "      <th>C</th>\n",
       "      <th>B</th>\n",
       "      <th>A</th>\n",
       "    </tr>\n",
       "  </thead>\n",
       "  <tbody>\n",
       "    <tr>\n",
       "      <th>2017-03-01</th>\n",
       "      <td>1.093592</td>\n",
       "      <td>-0.495538</td>\n",
       "      <td>2.013236</td>\n",
       "      <td>-2.032283</td>\n",
       "      <td>0.487068</td>\n",
       "    </tr>\n",
       "    <tr>\n",
       "      <th>2017-03-02</th>\n",
       "      <td>-1.516994</td>\n",
       "      <td>-1.066058</td>\n",
       "      <td>0.457113</td>\n",
       "      <td>-0.489064</td>\n",
       "      <td>0.148779</td>\n",
       "    </tr>\n",
       "    <tr>\n",
       "      <th>2017-03-03</th>\n",
       "      <td>0.825392</td>\n",
       "      <td>-2.344433</td>\n",
       "      <td>-0.727730</td>\n",
       "      <td>-0.193274</td>\n",
       "      <td>-0.858989</td>\n",
       "    </tr>\n",
       "    <tr>\n",
       "      <th>2017-03-04</th>\n",
       "      <td>-0.113530</td>\n",
       "      <td>-0.582157</td>\n",
       "      <td>-0.309941</td>\n",
       "      <td>-1.458266</td>\n",
       "      <td>-0.777631</td>\n",
       "    </tr>\n",
       "    <tr>\n",
       "      <th>2017-03-05</th>\n",
       "      <td>-0.472163</td>\n",
       "      <td>1.274338</td>\n",
       "      <td>0.483389</td>\n",
       "      <td>-0.426831</td>\n",
       "      <td>0.849273</td>\n",
       "    </tr>\n",
       "    <tr>\n",
       "      <th>2017-03-06</th>\n",
       "      <td>0.560928</td>\n",
       "      <td>-0.065283</td>\n",
       "      <td>-0.364098</td>\n",
       "      <td>1.559336</td>\n",
       "      <td>0.782149</td>\n",
       "    </tr>\n",
       "    <tr>\n",
       "      <th>2017-03-07</th>\n",
       "      <td>0.552164</td>\n",
       "      <td>-1.276140</td>\n",
       "      <td>-1.235108</td>\n",
       "      <td>0.134917</td>\n",
       "      <td>-1.516858</td>\n",
       "    </tr>\n",
       "    <tr>\n",
       "      <th>2017-03-08</th>\n",
       "      <td>-1.736261</td>\n",
       "      <td>1.035858</td>\n",
       "      <td>2.505544</td>\n",
       "      <td>-1.428890</td>\n",
       "      <td>-0.509215</td>\n",
       "    </tr>\n",
       "  </tbody>\n",
       "</table>\n",
       "</div>"
      ],
      "text/plain": [
       "                   E         D         C         B         A\n",
       "2017-03-01  1.093592 -0.495538  2.013236 -2.032283  0.487068\n",
       "2017-03-02 -1.516994 -1.066058  0.457113 -0.489064  0.148779\n",
       "2017-03-03  0.825392 -2.344433 -0.727730 -0.193274 -0.858989\n",
       "2017-03-04 -0.113530 -0.582157 -0.309941 -1.458266 -0.777631\n",
       "2017-03-05 -0.472163  1.274338  0.483389 -0.426831  0.849273\n",
       "2017-03-06  0.560928 -0.065283 -0.364098  1.559336  0.782149\n",
       "2017-03-07  0.552164 -1.276140 -1.235108  0.134917 -1.516858\n",
       "2017-03-08 -1.736261  1.035858  2.505544 -1.428890 -0.509215"
      ]
     },
     "execution_count": 13,
     "metadata": {},
     "output_type": "execute_result"
    }
   ],
   "source": [
    "df.sort_index(axis=1, ascending=False)"
   ]
  },
  {
   "cell_type": "code",
   "execution_count": 14,
   "metadata": {},
   "outputs": [
    {
     "data": {
      "text/html": [
       "<div>\n",
       "<style scoped>\n",
       "    .dataframe tbody tr th:only-of-type {\n",
       "        vertical-align: middle;\n",
       "    }\n",
       "\n",
       "    .dataframe tbody tr th {\n",
       "        vertical-align: top;\n",
       "    }\n",
       "\n",
       "    .dataframe thead th {\n",
       "        text-align: right;\n",
       "    }\n",
       "</style>\n",
       "<table border=\"1\" class=\"dataframe\">\n",
       "  <thead>\n",
       "    <tr style=\"text-align: right;\">\n",
       "      <th></th>\n",
       "      <th>A</th>\n",
       "      <th>B</th>\n",
       "      <th>C</th>\n",
       "      <th>D</th>\n",
       "      <th>E</th>\n",
       "    </tr>\n",
       "  </thead>\n",
       "  <tbody>\n",
       "    <tr>\n",
       "      <th>count</th>\n",
       "      <td>8.000000</td>\n",
       "      <td>8.000000</td>\n",
       "      <td>8.000000</td>\n",
       "      <td>8.000000</td>\n",
       "      <td>8.000000</td>\n",
       "    </tr>\n",
       "    <tr>\n",
       "      <th>mean</th>\n",
       "      <td>-0.174428</td>\n",
       "      <td>-0.541794</td>\n",
       "      <td>0.352801</td>\n",
       "      <td>-0.439927</td>\n",
       "      <td>-0.100859</td>\n",
       "    </tr>\n",
       "    <tr>\n",
       "      <th>std</th>\n",
       "      <td>0.866167</td>\n",
       "      <td>1.124949</td>\n",
       "      <td>1.312656</td>\n",
       "      <td>1.195154</td>\n",
       "      <td>1.066842</td>\n",
       "    </tr>\n",
       "    <tr>\n",
       "      <th>min</th>\n",
       "      <td>-1.516858</td>\n",
       "      <td>-2.032283</td>\n",
       "      <td>-1.235108</td>\n",
       "      <td>-2.344433</td>\n",
       "      <td>-1.736261</td>\n",
       "    </tr>\n",
       "    <tr>\n",
       "      <th>25%</th>\n",
       "      <td>-0.797970</td>\n",
       "      <td>-1.436234</td>\n",
       "      <td>-0.455006</td>\n",
       "      <td>-1.118578</td>\n",
       "      <td>-0.733371</td>\n",
       "    </tr>\n",
       "    <tr>\n",
       "      <th>50%</th>\n",
       "      <td>-0.180218</td>\n",
       "      <td>-0.457947</td>\n",
       "      <td>0.073586</td>\n",
       "      <td>-0.538848</td>\n",
       "      <td>0.219317</td>\n",
       "    </tr>\n",
       "    <tr>\n",
       "      <th>75%</th>\n",
       "      <td>0.560838</td>\n",
       "      <td>-0.111227</td>\n",
       "      <td>0.865851</td>\n",
       "      <td>0.210002</td>\n",
       "      <td>0.627044</td>\n",
       "    </tr>\n",
       "    <tr>\n",
       "      <th>max</th>\n",
       "      <td>0.849273</td>\n",
       "      <td>1.559336</td>\n",
       "      <td>2.505544</td>\n",
       "      <td>1.274338</td>\n",
       "      <td>1.093592</td>\n",
       "    </tr>\n",
       "  </tbody>\n",
       "</table>\n",
       "</div>"
      ],
      "text/plain": [
       "              A         B         C         D         E\n",
       "count  8.000000  8.000000  8.000000  8.000000  8.000000\n",
       "mean  -0.174428 -0.541794  0.352801 -0.439927 -0.100859\n",
       "std    0.866167  1.124949  1.312656  1.195154  1.066842\n",
       "min   -1.516858 -2.032283 -1.235108 -2.344433 -1.736261\n",
       "25%   -0.797970 -1.436234 -0.455006 -1.118578 -0.733371\n",
       "50%   -0.180218 -0.457947  0.073586 -0.538848  0.219317\n",
       "75%    0.560838 -0.111227  0.865851  0.210002  0.627044\n",
       "max    0.849273  1.559336  2.505544  1.274338  1.093592"
      ]
     },
     "execution_count": 14,
     "metadata": {},
     "output_type": "execute_result"
    }
   ],
   "source": [
    "df.describe()"
   ]
  },
  {
   "cell_type": "code",
   "execution_count": 15,
   "metadata": {},
   "outputs": [],
   "source": [
    "# Select 切片"
   ]
  },
  {
   "cell_type": "code",
   "execution_count": 16,
   "metadata": {},
   "outputs": [
    {
     "data": {
      "text/plain": [
       "2017-03-01    0.487068\n",
       "2017-03-02    0.148779\n",
       "2017-03-03   -0.858989\n",
       "2017-03-04   -0.777631\n",
       "2017-03-05    0.849273\n",
       "2017-03-06    0.782149\n",
       "2017-03-07   -1.516858\n",
       "2017-03-08   -0.509215\n",
       "Freq: D, Name: A, dtype: float64"
      ]
     },
     "execution_count": 16,
     "metadata": {},
     "output_type": "execute_result"
    }
   ],
   "source": [
    "df[\"A\"]"
   ]
  },
  {
   "cell_type": "code",
   "execution_count": 17,
   "metadata": {},
   "outputs": [
    {
     "data": {
      "text/plain": [
       "pandas.core.series.Series"
      ]
     },
     "execution_count": 17,
     "metadata": {},
     "output_type": "execute_result"
    }
   ],
   "source": [
    "type(df[\"A\"])"
   ]
  },
  {
   "cell_type": "code",
   "execution_count": 18,
   "metadata": {},
   "outputs": [
    {
     "data": {
      "text/html": [
       "<div>\n",
       "<style scoped>\n",
       "    .dataframe tbody tr th:only-of-type {\n",
       "        vertical-align: middle;\n",
       "    }\n",
       "\n",
       "    .dataframe tbody tr th {\n",
       "        vertical-align: top;\n",
       "    }\n",
       "\n",
       "    .dataframe thead th {\n",
       "        text-align: right;\n",
       "    }\n",
       "</style>\n",
       "<table border=\"1\" class=\"dataframe\">\n",
       "  <thead>\n",
       "    <tr style=\"text-align: right;\">\n",
       "      <th></th>\n",
       "      <th>A</th>\n",
       "      <th>B</th>\n",
       "      <th>C</th>\n",
       "      <th>D</th>\n",
       "      <th>E</th>\n",
       "    </tr>\n",
       "  </thead>\n",
       "  <tbody>\n",
       "    <tr>\n",
       "      <th>2017-03-01</th>\n",
       "      <td>0.487068</td>\n",
       "      <td>-2.032283</td>\n",
       "      <td>2.013236</td>\n",
       "      <td>-0.495538</td>\n",
       "      <td>1.093592</td>\n",
       "    </tr>\n",
       "    <tr>\n",
       "      <th>2017-03-02</th>\n",
       "      <td>0.148779</td>\n",
       "      <td>-0.489064</td>\n",
       "      <td>0.457113</td>\n",
       "      <td>-1.066058</td>\n",
       "      <td>-1.516994</td>\n",
       "    </tr>\n",
       "    <tr>\n",
       "      <th>2017-03-03</th>\n",
       "      <td>-0.858989</td>\n",
       "      <td>-0.193274</td>\n",
       "      <td>-0.727730</td>\n",
       "      <td>-2.344433</td>\n",
       "      <td>0.825392</td>\n",
       "    </tr>\n",
       "  </tbody>\n",
       "</table>\n",
       "</div>"
      ],
      "text/plain": [
       "                   A         B         C         D         E\n",
       "2017-03-01  0.487068 -2.032283  2.013236 -0.495538  1.093592\n",
       "2017-03-02  0.148779 -0.489064  0.457113 -1.066058 -1.516994\n",
       "2017-03-03 -0.858989 -0.193274 -0.727730 -2.344433  0.825392"
      ]
     },
     "execution_count": 18,
     "metadata": {},
     "output_type": "execute_result"
    }
   ],
   "source": [
    "df[:3]"
   ]
  },
  {
   "cell_type": "code",
   "execution_count": 19,
   "metadata": {},
   "outputs": [
    {
     "data": {
      "text/html": [
       "<div>\n",
       "<style scoped>\n",
       "    .dataframe tbody tr th:only-of-type {\n",
       "        vertical-align: middle;\n",
       "    }\n",
       "\n",
       "    .dataframe tbody tr th {\n",
       "        vertical-align: top;\n",
       "    }\n",
       "\n",
       "    .dataframe thead th {\n",
       "        text-align: right;\n",
       "    }\n",
       "</style>\n",
       "<table border=\"1\" class=\"dataframe\">\n",
       "  <thead>\n",
       "    <tr style=\"text-align: right;\">\n",
       "      <th></th>\n",
       "      <th>A</th>\n",
       "      <th>B</th>\n",
       "      <th>C</th>\n",
       "      <th>D</th>\n",
       "      <th>E</th>\n",
       "    </tr>\n",
       "  </thead>\n",
       "  <tbody>\n",
       "    <tr>\n",
       "      <th>2017-03-01</th>\n",
       "      <td>0.487068</td>\n",
       "      <td>-2.032283</td>\n",
       "      <td>2.013236</td>\n",
       "      <td>-0.495538</td>\n",
       "      <td>1.093592</td>\n",
       "    </tr>\n",
       "    <tr>\n",
       "      <th>2017-03-02</th>\n",
       "      <td>0.148779</td>\n",
       "      <td>-0.489064</td>\n",
       "      <td>0.457113</td>\n",
       "      <td>-1.066058</td>\n",
       "      <td>-1.516994</td>\n",
       "    </tr>\n",
       "    <tr>\n",
       "      <th>2017-03-03</th>\n",
       "      <td>-0.858989</td>\n",
       "      <td>-0.193274</td>\n",
       "      <td>-0.727730</td>\n",
       "      <td>-2.344433</td>\n",
       "      <td>0.825392</td>\n",
       "    </tr>\n",
       "    <tr>\n",
       "      <th>2017-03-04</th>\n",
       "      <td>-0.777631</td>\n",
       "      <td>-1.458266</td>\n",
       "      <td>-0.309941</td>\n",
       "      <td>-0.582157</td>\n",
       "      <td>-0.113530</td>\n",
       "    </tr>\n",
       "  </tbody>\n",
       "</table>\n",
       "</div>"
      ],
      "text/plain": [
       "                   A         B         C         D         E\n",
       "2017-03-01  0.487068 -2.032283  2.013236 -0.495538  1.093592\n",
       "2017-03-02  0.148779 -0.489064  0.457113 -1.066058 -1.516994\n",
       "2017-03-03 -0.858989 -0.193274 -0.727730 -2.344433  0.825392\n",
       "2017-03-04 -0.777631 -1.458266 -0.309941 -0.582157 -0.113530"
      ]
     },
     "execution_count": 19,
     "metadata": {},
     "output_type": "execute_result"
    }
   ],
   "source": [
    "df[\"20170301\":\"20170304\"]"
   ]
  },
  {
   "cell_type": "code",
   "execution_count": 20,
   "metadata": {},
   "outputs": [
    {
     "data": {
      "text/plain": [
       "A    0.487068\n",
       "B   -2.032283\n",
       "C    2.013236\n",
       "D   -0.495538\n",
       "E    1.093592\n",
       "Name: 2017-03-01 00:00:00, dtype: float64"
      ]
     },
     "execution_count": 20,
     "metadata": {},
     "output_type": "execute_result"
    }
   ],
   "source": [
    "df.loc[dates[0]]"
   ]
  },
  {
   "cell_type": "code",
   "execution_count": 21,
   "metadata": {},
   "outputs": [
    {
     "data": {
      "text/html": [
       "<div>\n",
       "<style scoped>\n",
       "    .dataframe tbody tr th:only-of-type {\n",
       "        vertical-align: middle;\n",
       "    }\n",
       "\n",
       "    .dataframe tbody tr th {\n",
       "        vertical-align: top;\n",
       "    }\n",
       "\n",
       "    .dataframe thead th {\n",
       "        text-align: right;\n",
       "    }\n",
       "</style>\n",
       "<table border=\"1\" class=\"dataframe\">\n",
       "  <thead>\n",
       "    <tr style=\"text-align: right;\">\n",
       "      <th></th>\n",
       "      <th>B</th>\n",
       "      <th>D</th>\n",
       "    </tr>\n",
       "  </thead>\n",
       "  <tbody>\n",
       "    <tr>\n",
       "      <th>2017-03-01</th>\n",
       "      <td>-2.032283</td>\n",
       "      <td>-0.495538</td>\n",
       "    </tr>\n",
       "    <tr>\n",
       "      <th>2017-03-02</th>\n",
       "      <td>-0.489064</td>\n",
       "      <td>-1.066058</td>\n",
       "    </tr>\n",
       "    <tr>\n",
       "      <th>2017-03-03</th>\n",
       "      <td>-0.193274</td>\n",
       "      <td>-2.344433</td>\n",
       "    </tr>\n",
       "    <tr>\n",
       "      <th>2017-03-04</th>\n",
       "      <td>-1.458266</td>\n",
       "      <td>-0.582157</td>\n",
       "    </tr>\n",
       "  </tbody>\n",
       "</table>\n",
       "</div>"
      ],
      "text/plain": [
       "                   B         D\n",
       "2017-03-01 -2.032283 -0.495538\n",
       "2017-03-02 -0.489064 -1.066058\n",
       "2017-03-03 -0.193274 -2.344433\n",
       "2017-03-04 -1.458266 -0.582157"
      ]
     },
     "execution_count": 21,
     "metadata": {},
     "output_type": "execute_result"
    }
   ],
   "source": [
    "df.loc[\"20170301\":\"20170304\", [\"B\",\"D\"]]"
   ]
  },
  {
   "cell_type": "code",
   "execution_count": 22,
   "metadata": {},
   "outputs": [
    {
     "data": {
      "text/plain": [
       "2.013235689052964"
      ]
     },
     "execution_count": 22,
     "metadata": {},
     "output_type": "execute_result"
    }
   ],
   "source": [
    "df.at[dates[0], \"C\"]"
   ]
  },
  {
   "cell_type": "code",
   "execution_count": 23,
   "metadata": {},
   "outputs": [
    {
     "data": {
      "text/html": [
       "<div>\n",
       "<style scoped>\n",
       "    .dataframe tbody tr th:only-of-type {\n",
       "        vertical-align: middle;\n",
       "    }\n",
       "\n",
       "    .dataframe tbody tr th {\n",
       "        vertical-align: top;\n",
       "    }\n",
       "\n",
       "    .dataframe thead th {\n",
       "        text-align: right;\n",
       "    }\n",
       "</style>\n",
       "<table border=\"1\" class=\"dataframe\">\n",
       "  <thead>\n",
       "    <tr style=\"text-align: right;\">\n",
       "      <th></th>\n",
       "      <th>C</th>\n",
       "      <th>D</th>\n",
       "    </tr>\n",
       "  </thead>\n",
       "  <tbody>\n",
       "    <tr>\n",
       "      <th>2017-03-02</th>\n",
       "      <td>0.457113</td>\n",
       "      <td>-1.066058</td>\n",
       "    </tr>\n",
       "    <tr>\n",
       "      <th>2017-03-03</th>\n",
       "      <td>-0.727730</td>\n",
       "      <td>-2.344433</td>\n",
       "    </tr>\n",
       "  </tbody>\n",
       "</table>\n",
       "</div>"
      ],
      "text/plain": [
       "                   C         D\n",
       "2017-03-02  0.457113 -1.066058\n",
       "2017-03-03 -0.727730 -2.344433"
      ]
     },
     "execution_count": 23,
     "metadata": {},
     "output_type": "execute_result"
    }
   ],
   "source": [
    "df.iloc[1:3, 2:4]"
   ]
  },
  {
   "cell_type": "code",
   "execution_count": 24,
   "metadata": {},
   "outputs": [
    {
     "data": {
      "text/plain": [
       "-1.5169941905259976"
      ]
     },
     "execution_count": 24,
     "metadata": {},
     "output_type": "execute_result"
    }
   ],
   "source": [
    "df.iloc[1, 4]"
   ]
  },
  {
   "cell_type": "code",
   "execution_count": 25,
   "metadata": {},
   "outputs": [
    {
     "data": {
      "text/plain": [
       "-1.5169941905259976"
      ]
     },
     "execution_count": 25,
     "metadata": {},
     "output_type": "execute_result"
    }
   ],
   "source": [
    "df.iat[1, 4]"
   ]
  },
  {
   "cell_type": "code",
   "execution_count": 26,
   "metadata": {},
   "outputs": [
    {
     "name": "stderr",
     "output_type": "stream",
     "text": [
      "/home/whark/.local/lib/python3.5/site-packages/ipykernel_launcher.py:1: UserWarning: Boolean Series key will be reindexed to match DataFrame index.\n",
      "  \"\"\"Entry point for launching an IPython kernel.\n"
     ]
    },
    {
     "data": {
      "text/html": [
       "<div>\n",
       "<style scoped>\n",
       "    .dataframe tbody tr th:only-of-type {\n",
       "        vertical-align: middle;\n",
       "    }\n",
       "\n",
       "    .dataframe tbody tr th {\n",
       "        vertical-align: top;\n",
       "    }\n",
       "\n",
       "    .dataframe thead th {\n",
       "        text-align: right;\n",
       "    }\n",
       "</style>\n",
       "<table border=\"1\" class=\"dataframe\">\n",
       "  <thead>\n",
       "    <tr style=\"text-align: right;\">\n",
       "      <th></th>\n",
       "      <th>A</th>\n",
       "      <th>B</th>\n",
       "      <th>C</th>\n",
       "      <th>D</th>\n",
       "      <th>E</th>\n",
       "    </tr>\n",
       "  </thead>\n",
       "  <tbody>\n",
       "    <tr>\n",
       "      <th>2017-03-07</th>\n",
       "      <td>-1.516858</td>\n",
       "      <td>0.134917</td>\n",
       "      <td>-1.235108</td>\n",
       "      <td>-1.27614</td>\n",
       "      <td>0.552164</td>\n",
       "    </tr>\n",
       "  </tbody>\n",
       "</table>\n",
       "</div>"
      ],
      "text/plain": [
       "                   A         B         C        D         E\n",
       "2017-03-07 -1.516858  0.134917 -1.235108 -1.27614  0.552164"
      ]
     },
     "execution_count": 26,
     "metadata": {},
     "output_type": "execute_result"
    }
   ],
   "source": [
    "df[df.B>0][df.A<0]"
   ]
  },
  {
   "cell_type": "code",
   "execution_count": 27,
   "metadata": {},
   "outputs": [
    {
     "data": {
      "text/html": [
       "<div>\n",
       "<style scoped>\n",
       "    .dataframe tbody tr th:only-of-type {\n",
       "        vertical-align: middle;\n",
       "    }\n",
       "\n",
       "    .dataframe tbody tr th {\n",
       "        vertical-align: top;\n",
       "    }\n",
       "\n",
       "    .dataframe thead th {\n",
       "        text-align: right;\n",
       "    }\n",
       "</style>\n",
       "<table border=\"1\" class=\"dataframe\">\n",
       "  <thead>\n",
       "    <tr style=\"text-align: right;\">\n",
       "      <th></th>\n",
       "      <th>A</th>\n",
       "      <th>B</th>\n",
       "      <th>C</th>\n",
       "      <th>D</th>\n",
       "      <th>E</th>\n",
       "    </tr>\n",
       "  </thead>\n",
       "  <tbody>\n",
       "    <tr>\n",
       "      <th>2017-03-01</th>\n",
       "      <td>0.487068</td>\n",
       "      <td>NaN</td>\n",
       "      <td>2.013236</td>\n",
       "      <td>NaN</td>\n",
       "      <td>1.093592</td>\n",
       "    </tr>\n",
       "    <tr>\n",
       "      <th>2017-03-02</th>\n",
       "      <td>0.148779</td>\n",
       "      <td>NaN</td>\n",
       "      <td>0.457113</td>\n",
       "      <td>NaN</td>\n",
       "      <td>NaN</td>\n",
       "    </tr>\n",
       "    <tr>\n",
       "      <th>2017-03-03</th>\n",
       "      <td>NaN</td>\n",
       "      <td>NaN</td>\n",
       "      <td>NaN</td>\n",
       "      <td>NaN</td>\n",
       "      <td>0.825392</td>\n",
       "    </tr>\n",
       "    <tr>\n",
       "      <th>2017-03-04</th>\n",
       "      <td>NaN</td>\n",
       "      <td>NaN</td>\n",
       "      <td>NaN</td>\n",
       "      <td>NaN</td>\n",
       "      <td>NaN</td>\n",
       "    </tr>\n",
       "    <tr>\n",
       "      <th>2017-03-05</th>\n",
       "      <td>0.849273</td>\n",
       "      <td>NaN</td>\n",
       "      <td>0.483389</td>\n",
       "      <td>1.274338</td>\n",
       "      <td>NaN</td>\n",
       "    </tr>\n",
       "    <tr>\n",
       "      <th>2017-03-06</th>\n",
       "      <td>0.782149</td>\n",
       "      <td>1.559336</td>\n",
       "      <td>NaN</td>\n",
       "      <td>NaN</td>\n",
       "      <td>0.560928</td>\n",
       "    </tr>\n",
       "    <tr>\n",
       "      <th>2017-03-07</th>\n",
       "      <td>NaN</td>\n",
       "      <td>0.134917</td>\n",
       "      <td>NaN</td>\n",
       "      <td>NaN</td>\n",
       "      <td>0.552164</td>\n",
       "    </tr>\n",
       "    <tr>\n",
       "      <th>2017-03-08</th>\n",
       "      <td>NaN</td>\n",
       "      <td>NaN</td>\n",
       "      <td>2.505544</td>\n",
       "      <td>1.035858</td>\n",
       "      <td>NaN</td>\n",
       "    </tr>\n",
       "  </tbody>\n",
       "</table>\n",
       "</div>"
      ],
      "text/plain": [
       "                   A         B         C         D         E\n",
       "2017-03-01  0.487068       NaN  2.013236       NaN  1.093592\n",
       "2017-03-02  0.148779       NaN  0.457113       NaN       NaN\n",
       "2017-03-03       NaN       NaN       NaN       NaN  0.825392\n",
       "2017-03-04       NaN       NaN       NaN       NaN       NaN\n",
       "2017-03-05  0.849273       NaN  0.483389  1.274338       NaN\n",
       "2017-03-06  0.782149  1.559336       NaN       NaN  0.560928\n",
       "2017-03-07       NaN  0.134917       NaN       NaN  0.552164\n",
       "2017-03-08       NaN       NaN  2.505544  1.035858       NaN"
      ]
     },
     "execution_count": 27,
     "metadata": {},
     "output_type": "execute_result"
    }
   ],
   "source": [
    "df[df>0]"
   ]
  },
  {
   "cell_type": "code",
   "execution_count": 28,
   "metadata": {},
   "outputs": [
    {
     "data": {
      "text/html": [
       "<div>\n",
       "<style scoped>\n",
       "    .dataframe tbody tr th:only-of-type {\n",
       "        vertical-align: middle;\n",
       "    }\n",
       "\n",
       "    .dataframe tbody tr th {\n",
       "        vertical-align: top;\n",
       "    }\n",
       "\n",
       "    .dataframe thead th {\n",
       "        text-align: right;\n",
       "    }\n",
       "</style>\n",
       "<table border=\"1\" class=\"dataframe\">\n",
       "  <thead>\n",
       "    <tr style=\"text-align: right;\">\n",
       "      <th></th>\n",
       "      <th>A</th>\n",
       "      <th>B</th>\n",
       "      <th>C</th>\n",
       "      <th>D</th>\n",
       "      <th>E</th>\n",
       "    </tr>\n",
       "  </thead>\n",
       "  <tbody>\n",
       "  </tbody>\n",
       "</table>\n",
       "</div>"
      ],
      "text/plain": [
       "Empty DataFrame\n",
       "Columns: [A, B, C, D, E]\n",
       "Index: []"
      ]
     },
     "execution_count": 28,
     "metadata": {},
     "output_type": "execute_result"
    }
   ],
   "source": [
    "df[df[\"E\"].isin([1, 2])]"
   ]
  },
  {
   "cell_type": "code",
   "execution_count": 29,
   "metadata": {},
   "outputs": [],
   "source": [
    "s1 = pd.Series(list(range(10, 18)), index=pd.date_range(\"20170301\", periods=8))"
   ]
  },
  {
   "cell_type": "code",
   "execution_count": 30,
   "metadata": {},
   "outputs": [],
   "source": [
    "df[\"F\"] = s1"
   ]
  },
  {
   "cell_type": "code",
   "execution_count": 31,
   "metadata": {},
   "outputs": [
    {
     "data": {
      "text/html": [
       "<div>\n",
       "<style scoped>\n",
       "    .dataframe tbody tr th:only-of-type {\n",
       "        vertical-align: middle;\n",
       "    }\n",
       "\n",
       "    .dataframe tbody tr th {\n",
       "        vertical-align: top;\n",
       "    }\n",
       "\n",
       "    .dataframe thead th {\n",
       "        text-align: right;\n",
       "    }\n",
       "</style>\n",
       "<table border=\"1\" class=\"dataframe\">\n",
       "  <thead>\n",
       "    <tr style=\"text-align: right;\">\n",
       "      <th></th>\n",
       "      <th>A</th>\n",
       "      <th>B</th>\n",
       "      <th>C</th>\n",
       "      <th>D</th>\n",
       "      <th>E</th>\n",
       "      <th>F</th>\n",
       "    </tr>\n",
       "  </thead>\n",
       "  <tbody>\n",
       "    <tr>\n",
       "      <th>2017-03-01</th>\n",
       "      <td>0.487068</td>\n",
       "      <td>-2.032283</td>\n",
       "      <td>2.013236</td>\n",
       "      <td>-0.495538</td>\n",
       "      <td>1.093592</td>\n",
       "      <td>10</td>\n",
       "    </tr>\n",
       "    <tr>\n",
       "      <th>2017-03-02</th>\n",
       "      <td>0.148779</td>\n",
       "      <td>-0.489064</td>\n",
       "      <td>0.457113</td>\n",
       "      <td>-1.066058</td>\n",
       "      <td>-1.516994</td>\n",
       "      <td>11</td>\n",
       "    </tr>\n",
       "    <tr>\n",
       "      <th>2017-03-03</th>\n",
       "      <td>-0.858989</td>\n",
       "      <td>-0.193274</td>\n",
       "      <td>-0.727730</td>\n",
       "      <td>-2.344433</td>\n",
       "      <td>0.825392</td>\n",
       "      <td>12</td>\n",
       "    </tr>\n",
       "    <tr>\n",
       "      <th>2017-03-04</th>\n",
       "      <td>-0.777631</td>\n",
       "      <td>-1.458266</td>\n",
       "      <td>-0.309941</td>\n",
       "      <td>-0.582157</td>\n",
       "      <td>-0.113530</td>\n",
       "      <td>13</td>\n",
       "    </tr>\n",
       "    <tr>\n",
       "      <th>2017-03-05</th>\n",
       "      <td>0.849273</td>\n",
       "      <td>-0.426831</td>\n",
       "      <td>0.483389</td>\n",
       "      <td>1.274338</td>\n",
       "      <td>-0.472163</td>\n",
       "      <td>14</td>\n",
       "    </tr>\n",
       "    <tr>\n",
       "      <th>2017-03-06</th>\n",
       "      <td>0.782149</td>\n",
       "      <td>1.559336</td>\n",
       "      <td>-0.364098</td>\n",
       "      <td>-0.065283</td>\n",
       "      <td>0.560928</td>\n",
       "      <td>15</td>\n",
       "    </tr>\n",
       "    <tr>\n",
       "      <th>2017-03-07</th>\n",
       "      <td>-1.516858</td>\n",
       "      <td>0.134917</td>\n",
       "      <td>-1.235108</td>\n",
       "      <td>-1.276140</td>\n",
       "      <td>0.552164</td>\n",
       "      <td>16</td>\n",
       "    </tr>\n",
       "    <tr>\n",
       "      <th>2017-03-08</th>\n",
       "      <td>-0.509215</td>\n",
       "      <td>-1.428890</td>\n",
       "      <td>2.505544</td>\n",
       "      <td>1.035858</td>\n",
       "      <td>-1.736261</td>\n",
       "      <td>17</td>\n",
       "    </tr>\n",
       "  </tbody>\n",
       "</table>\n",
       "</div>"
      ],
      "text/plain": [
       "                   A         B         C         D         E   F\n",
       "2017-03-01  0.487068 -2.032283  2.013236 -0.495538  1.093592  10\n",
       "2017-03-02  0.148779 -0.489064  0.457113 -1.066058 -1.516994  11\n",
       "2017-03-03 -0.858989 -0.193274 -0.727730 -2.344433  0.825392  12\n",
       "2017-03-04 -0.777631 -1.458266 -0.309941 -0.582157 -0.113530  13\n",
       "2017-03-05  0.849273 -0.426831  0.483389  1.274338 -0.472163  14\n",
       "2017-03-06  0.782149  1.559336 -0.364098 -0.065283  0.560928  15\n",
       "2017-03-07 -1.516858  0.134917 -1.235108 -1.276140  0.552164  16\n",
       "2017-03-08 -0.509215 -1.428890  2.505544  1.035858 -1.736261  17"
      ]
     },
     "execution_count": 31,
     "metadata": {},
     "output_type": "execute_result"
    }
   ],
   "source": [
    "df"
   ]
  },
  {
   "cell_type": "code",
   "execution_count": 32,
   "metadata": {},
   "outputs": [],
   "source": [
    "df.at[dates[0], \"A\"] = 0"
   ]
  },
  {
   "cell_type": "code",
   "execution_count": 33,
   "metadata": {},
   "outputs": [
    {
     "data": {
      "text/html": [
       "<div>\n",
       "<style scoped>\n",
       "    .dataframe tbody tr th:only-of-type {\n",
       "        vertical-align: middle;\n",
       "    }\n",
       "\n",
       "    .dataframe tbody tr th {\n",
       "        vertical-align: top;\n",
       "    }\n",
       "\n",
       "    .dataframe thead th {\n",
       "        text-align: right;\n",
       "    }\n",
       "</style>\n",
       "<table border=\"1\" class=\"dataframe\">\n",
       "  <thead>\n",
       "    <tr style=\"text-align: right;\">\n",
       "      <th></th>\n",
       "      <th>A</th>\n",
       "      <th>B</th>\n",
       "      <th>C</th>\n",
       "      <th>D</th>\n",
       "      <th>E</th>\n",
       "      <th>F</th>\n",
       "    </tr>\n",
       "  </thead>\n",
       "  <tbody>\n",
       "    <tr>\n",
       "      <th>2017-03-01</th>\n",
       "      <td>0.000000</td>\n",
       "      <td>-2.032283</td>\n",
       "      <td>2.013236</td>\n",
       "      <td>-0.495538</td>\n",
       "      <td>1.093592</td>\n",
       "      <td>10</td>\n",
       "    </tr>\n",
       "    <tr>\n",
       "      <th>2017-03-02</th>\n",
       "      <td>0.148779</td>\n",
       "      <td>-0.489064</td>\n",
       "      <td>0.457113</td>\n",
       "      <td>-1.066058</td>\n",
       "      <td>-1.516994</td>\n",
       "      <td>11</td>\n",
       "    </tr>\n",
       "    <tr>\n",
       "      <th>2017-03-03</th>\n",
       "      <td>-0.858989</td>\n",
       "      <td>-0.193274</td>\n",
       "      <td>-0.727730</td>\n",
       "      <td>-2.344433</td>\n",
       "      <td>0.825392</td>\n",
       "      <td>12</td>\n",
       "    </tr>\n",
       "    <tr>\n",
       "      <th>2017-03-04</th>\n",
       "      <td>-0.777631</td>\n",
       "      <td>-1.458266</td>\n",
       "      <td>-0.309941</td>\n",
       "      <td>-0.582157</td>\n",
       "      <td>-0.113530</td>\n",
       "      <td>13</td>\n",
       "    </tr>\n",
       "    <tr>\n",
       "      <th>2017-03-05</th>\n",
       "      <td>0.849273</td>\n",
       "      <td>-0.426831</td>\n",
       "      <td>0.483389</td>\n",
       "      <td>1.274338</td>\n",
       "      <td>-0.472163</td>\n",
       "      <td>14</td>\n",
       "    </tr>\n",
       "    <tr>\n",
       "      <th>2017-03-06</th>\n",
       "      <td>0.782149</td>\n",
       "      <td>1.559336</td>\n",
       "      <td>-0.364098</td>\n",
       "      <td>-0.065283</td>\n",
       "      <td>0.560928</td>\n",
       "      <td>15</td>\n",
       "    </tr>\n",
       "    <tr>\n",
       "      <th>2017-03-07</th>\n",
       "      <td>-1.516858</td>\n",
       "      <td>0.134917</td>\n",
       "      <td>-1.235108</td>\n",
       "      <td>-1.276140</td>\n",
       "      <td>0.552164</td>\n",
       "      <td>16</td>\n",
       "    </tr>\n",
       "    <tr>\n",
       "      <th>2017-03-08</th>\n",
       "      <td>-0.509215</td>\n",
       "      <td>-1.428890</td>\n",
       "      <td>2.505544</td>\n",
       "      <td>1.035858</td>\n",
       "      <td>-1.736261</td>\n",
       "      <td>17</td>\n",
       "    </tr>\n",
       "  </tbody>\n",
       "</table>\n",
       "</div>"
      ],
      "text/plain": [
       "                   A         B         C         D         E   F\n",
       "2017-03-01  0.000000 -2.032283  2.013236 -0.495538  1.093592  10\n",
       "2017-03-02  0.148779 -0.489064  0.457113 -1.066058 -1.516994  11\n",
       "2017-03-03 -0.858989 -0.193274 -0.727730 -2.344433  0.825392  12\n",
       "2017-03-04 -0.777631 -1.458266 -0.309941 -0.582157 -0.113530  13\n",
       "2017-03-05  0.849273 -0.426831  0.483389  1.274338 -0.472163  14\n",
       "2017-03-06  0.782149  1.559336 -0.364098 -0.065283  0.560928  15\n",
       "2017-03-07 -1.516858  0.134917 -1.235108 -1.276140  0.552164  16\n",
       "2017-03-08 -0.509215 -1.428890  2.505544  1.035858 -1.736261  17"
      ]
     },
     "execution_count": 33,
     "metadata": {},
     "output_type": "execute_result"
    }
   ],
   "source": [
    "df"
   ]
  },
  {
   "cell_type": "code",
   "execution_count": 34,
   "metadata": {},
   "outputs": [],
   "source": [
    "df.iat[1, 1] = 1"
   ]
  },
  {
   "cell_type": "code",
   "execution_count": 35,
   "metadata": {},
   "outputs": [],
   "source": [
    "df.loc[:, \"D\"] = np.array([4]*len(df))"
   ]
  },
  {
   "cell_type": "code",
   "execution_count": 36,
   "metadata": {},
   "outputs": [
    {
     "data": {
      "text/html": [
       "<div>\n",
       "<style scoped>\n",
       "    .dataframe tbody tr th:only-of-type {\n",
       "        vertical-align: middle;\n",
       "    }\n",
       "\n",
       "    .dataframe tbody tr th {\n",
       "        vertical-align: top;\n",
       "    }\n",
       "\n",
       "    .dataframe thead th {\n",
       "        text-align: right;\n",
       "    }\n",
       "</style>\n",
       "<table border=\"1\" class=\"dataframe\">\n",
       "  <thead>\n",
       "    <tr style=\"text-align: right;\">\n",
       "      <th></th>\n",
       "      <th>A</th>\n",
       "      <th>B</th>\n",
       "      <th>C</th>\n",
       "      <th>D</th>\n",
       "      <th>E</th>\n",
       "      <th>F</th>\n",
       "    </tr>\n",
       "  </thead>\n",
       "  <tbody>\n",
       "    <tr>\n",
       "      <th>2017-03-01</th>\n",
       "      <td>0.000000</td>\n",
       "      <td>-2.032283</td>\n",
       "      <td>2.013236</td>\n",
       "      <td>4</td>\n",
       "      <td>1.093592</td>\n",
       "      <td>10</td>\n",
       "    </tr>\n",
       "    <tr>\n",
       "      <th>2017-03-02</th>\n",
       "      <td>0.148779</td>\n",
       "      <td>1.000000</td>\n",
       "      <td>0.457113</td>\n",
       "      <td>4</td>\n",
       "      <td>-1.516994</td>\n",
       "      <td>11</td>\n",
       "    </tr>\n",
       "    <tr>\n",
       "      <th>2017-03-03</th>\n",
       "      <td>-0.858989</td>\n",
       "      <td>-0.193274</td>\n",
       "      <td>-0.727730</td>\n",
       "      <td>4</td>\n",
       "      <td>0.825392</td>\n",
       "      <td>12</td>\n",
       "    </tr>\n",
       "    <tr>\n",
       "      <th>2017-03-04</th>\n",
       "      <td>-0.777631</td>\n",
       "      <td>-1.458266</td>\n",
       "      <td>-0.309941</td>\n",
       "      <td>4</td>\n",
       "      <td>-0.113530</td>\n",
       "      <td>13</td>\n",
       "    </tr>\n",
       "    <tr>\n",
       "      <th>2017-03-05</th>\n",
       "      <td>0.849273</td>\n",
       "      <td>-0.426831</td>\n",
       "      <td>0.483389</td>\n",
       "      <td>4</td>\n",
       "      <td>-0.472163</td>\n",
       "      <td>14</td>\n",
       "    </tr>\n",
       "    <tr>\n",
       "      <th>2017-03-06</th>\n",
       "      <td>0.782149</td>\n",
       "      <td>1.559336</td>\n",
       "      <td>-0.364098</td>\n",
       "      <td>4</td>\n",
       "      <td>0.560928</td>\n",
       "      <td>15</td>\n",
       "    </tr>\n",
       "    <tr>\n",
       "      <th>2017-03-07</th>\n",
       "      <td>-1.516858</td>\n",
       "      <td>0.134917</td>\n",
       "      <td>-1.235108</td>\n",
       "      <td>4</td>\n",
       "      <td>0.552164</td>\n",
       "      <td>16</td>\n",
       "    </tr>\n",
       "    <tr>\n",
       "      <th>2017-03-08</th>\n",
       "      <td>-0.509215</td>\n",
       "      <td>-1.428890</td>\n",
       "      <td>2.505544</td>\n",
       "      <td>4</td>\n",
       "      <td>-1.736261</td>\n",
       "      <td>17</td>\n",
       "    </tr>\n",
       "  </tbody>\n",
       "</table>\n",
       "</div>"
      ],
      "text/plain": [
       "                   A         B         C  D         E   F\n",
       "2017-03-01  0.000000 -2.032283  2.013236  4  1.093592  10\n",
       "2017-03-02  0.148779  1.000000  0.457113  4 -1.516994  11\n",
       "2017-03-03 -0.858989 -0.193274 -0.727730  4  0.825392  12\n",
       "2017-03-04 -0.777631 -1.458266 -0.309941  4 -0.113530  13\n",
       "2017-03-05  0.849273 -0.426831  0.483389  4 -0.472163  14\n",
       "2017-03-06  0.782149  1.559336 -0.364098  4  0.560928  15\n",
       "2017-03-07 -1.516858  0.134917 -1.235108  4  0.552164  16\n",
       "2017-03-08 -0.509215 -1.428890  2.505544  4 -1.736261  17"
      ]
     },
     "execution_count": 36,
     "metadata": {},
     "output_type": "execute_result"
    }
   ],
   "source": [
    "df"
   ]
  },
  {
   "cell_type": "code",
   "execution_count": 37,
   "metadata": {},
   "outputs": [],
   "source": [
    "df2 = df.copy()"
   ]
  },
  {
   "cell_type": "code",
   "execution_count": 38,
   "metadata": {},
   "outputs": [],
   "source": [
    "df2[df2>0] = -df2"
   ]
  },
  {
   "cell_type": "code",
   "execution_count": 39,
   "metadata": {},
   "outputs": [
    {
     "data": {
      "text/html": [
       "<div>\n",
       "<style scoped>\n",
       "    .dataframe tbody tr th:only-of-type {\n",
       "        vertical-align: middle;\n",
       "    }\n",
       "\n",
       "    .dataframe tbody tr th {\n",
       "        vertical-align: top;\n",
       "    }\n",
       "\n",
       "    .dataframe thead th {\n",
       "        text-align: right;\n",
       "    }\n",
       "</style>\n",
       "<table border=\"1\" class=\"dataframe\">\n",
       "  <thead>\n",
       "    <tr style=\"text-align: right;\">\n",
       "      <th></th>\n",
       "      <th>A</th>\n",
       "      <th>B</th>\n",
       "      <th>C</th>\n",
       "      <th>D</th>\n",
       "      <th>E</th>\n",
       "      <th>F</th>\n",
       "    </tr>\n",
       "  </thead>\n",
       "  <tbody>\n",
       "    <tr>\n",
       "      <th>2017-03-01</th>\n",
       "      <td>0.000000</td>\n",
       "      <td>-2.032283</td>\n",
       "      <td>-2.013236</td>\n",
       "      <td>-4</td>\n",
       "      <td>-1.093592</td>\n",
       "      <td>-10</td>\n",
       "    </tr>\n",
       "    <tr>\n",
       "      <th>2017-03-02</th>\n",
       "      <td>-0.148779</td>\n",
       "      <td>-1.000000</td>\n",
       "      <td>-0.457113</td>\n",
       "      <td>-4</td>\n",
       "      <td>-1.516994</td>\n",
       "      <td>-11</td>\n",
       "    </tr>\n",
       "    <tr>\n",
       "      <th>2017-03-03</th>\n",
       "      <td>-0.858989</td>\n",
       "      <td>-0.193274</td>\n",
       "      <td>-0.727730</td>\n",
       "      <td>-4</td>\n",
       "      <td>-0.825392</td>\n",
       "      <td>-12</td>\n",
       "    </tr>\n",
       "    <tr>\n",
       "      <th>2017-03-04</th>\n",
       "      <td>-0.777631</td>\n",
       "      <td>-1.458266</td>\n",
       "      <td>-0.309941</td>\n",
       "      <td>-4</td>\n",
       "      <td>-0.113530</td>\n",
       "      <td>-13</td>\n",
       "    </tr>\n",
       "    <tr>\n",
       "      <th>2017-03-05</th>\n",
       "      <td>-0.849273</td>\n",
       "      <td>-0.426831</td>\n",
       "      <td>-0.483389</td>\n",
       "      <td>-4</td>\n",
       "      <td>-0.472163</td>\n",
       "      <td>-14</td>\n",
       "    </tr>\n",
       "    <tr>\n",
       "      <th>2017-03-06</th>\n",
       "      <td>-0.782149</td>\n",
       "      <td>-1.559336</td>\n",
       "      <td>-0.364098</td>\n",
       "      <td>-4</td>\n",
       "      <td>-0.560928</td>\n",
       "      <td>-15</td>\n",
       "    </tr>\n",
       "    <tr>\n",
       "      <th>2017-03-07</th>\n",
       "      <td>-1.516858</td>\n",
       "      <td>-0.134917</td>\n",
       "      <td>-1.235108</td>\n",
       "      <td>-4</td>\n",
       "      <td>-0.552164</td>\n",
       "      <td>-16</td>\n",
       "    </tr>\n",
       "    <tr>\n",
       "      <th>2017-03-08</th>\n",
       "      <td>-0.509215</td>\n",
       "      <td>-1.428890</td>\n",
       "      <td>-2.505544</td>\n",
       "      <td>-4</td>\n",
       "      <td>-1.736261</td>\n",
       "      <td>-17</td>\n",
       "    </tr>\n",
       "  </tbody>\n",
       "</table>\n",
       "</div>"
      ],
      "text/plain": [
       "                   A         B         C  D         E   F\n",
       "2017-03-01  0.000000 -2.032283 -2.013236 -4 -1.093592 -10\n",
       "2017-03-02 -0.148779 -1.000000 -0.457113 -4 -1.516994 -11\n",
       "2017-03-03 -0.858989 -0.193274 -0.727730 -4 -0.825392 -12\n",
       "2017-03-04 -0.777631 -1.458266 -0.309941 -4 -0.113530 -13\n",
       "2017-03-05 -0.849273 -0.426831 -0.483389 -4 -0.472163 -14\n",
       "2017-03-06 -0.782149 -1.559336 -0.364098 -4 -0.560928 -15\n",
       "2017-03-07 -1.516858 -0.134917 -1.235108 -4 -0.552164 -16\n",
       "2017-03-08 -0.509215 -1.428890 -2.505544 -4 -1.736261 -17"
      ]
     },
     "execution_count": 39,
     "metadata": {},
     "output_type": "execute_result"
    }
   ],
   "source": [
    "df2"
   ]
  },
  {
   "cell_type": "code",
   "execution_count": 40,
   "metadata": {},
   "outputs": [],
   "source": [
    "# Missing Values 缺失值的处理"
   ]
  },
  {
   "cell_type": "code",
   "execution_count": 41,
   "metadata": {},
   "outputs": [],
   "source": [
    "df1 = df.reindex(index=dates[:4], columns=list(\"ABCD\")+[\"G\"])"
   ]
  },
  {
   "cell_type": "code",
   "execution_count": 42,
   "metadata": {},
   "outputs": [
    {
     "data": {
      "text/html": [
       "<div>\n",
       "<style scoped>\n",
       "    .dataframe tbody tr th:only-of-type {\n",
       "        vertical-align: middle;\n",
       "    }\n",
       "\n",
       "    .dataframe tbody tr th {\n",
       "        vertical-align: top;\n",
       "    }\n",
       "\n",
       "    .dataframe thead th {\n",
       "        text-align: right;\n",
       "    }\n",
       "</style>\n",
       "<table border=\"1\" class=\"dataframe\">\n",
       "  <thead>\n",
       "    <tr style=\"text-align: right;\">\n",
       "      <th></th>\n",
       "      <th>A</th>\n",
       "      <th>B</th>\n",
       "      <th>C</th>\n",
       "      <th>D</th>\n",
       "      <th>G</th>\n",
       "    </tr>\n",
       "  </thead>\n",
       "  <tbody>\n",
       "    <tr>\n",
       "      <th>2017-03-01</th>\n",
       "      <td>0.000000</td>\n",
       "      <td>-2.032283</td>\n",
       "      <td>2.013236</td>\n",
       "      <td>4</td>\n",
       "      <td>NaN</td>\n",
       "    </tr>\n",
       "    <tr>\n",
       "      <th>2017-03-02</th>\n",
       "      <td>0.148779</td>\n",
       "      <td>1.000000</td>\n",
       "      <td>0.457113</td>\n",
       "      <td>4</td>\n",
       "      <td>NaN</td>\n",
       "    </tr>\n",
       "    <tr>\n",
       "      <th>2017-03-03</th>\n",
       "      <td>-0.858989</td>\n",
       "      <td>-0.193274</td>\n",
       "      <td>-0.727730</td>\n",
       "      <td>4</td>\n",
       "      <td>NaN</td>\n",
       "    </tr>\n",
       "    <tr>\n",
       "      <th>2017-03-04</th>\n",
       "      <td>-0.777631</td>\n",
       "      <td>-1.458266</td>\n",
       "      <td>-0.309941</td>\n",
       "      <td>4</td>\n",
       "      <td>NaN</td>\n",
       "    </tr>\n",
       "  </tbody>\n",
       "</table>\n",
       "</div>"
      ],
      "text/plain": [
       "                   A         B         C  D   G\n",
       "2017-03-01  0.000000 -2.032283  2.013236  4 NaN\n",
       "2017-03-02  0.148779  1.000000  0.457113  4 NaN\n",
       "2017-03-03 -0.858989 -0.193274 -0.727730  4 NaN\n",
       "2017-03-04 -0.777631 -1.458266 -0.309941  4 NaN"
      ]
     },
     "execution_count": 42,
     "metadata": {},
     "output_type": "execute_result"
    }
   ],
   "source": [
    "df1"
   ]
  },
  {
   "cell_type": "code",
   "execution_count": 43,
   "metadata": {},
   "outputs": [],
   "source": [
    "df1.loc[dates[0]:dates[1], \"G\"] = 1"
   ]
  },
  {
   "cell_type": "code",
   "execution_count": 44,
   "metadata": {},
   "outputs": [
    {
     "data": {
      "text/html": [
       "<div>\n",
       "<style scoped>\n",
       "    .dataframe tbody tr th:only-of-type {\n",
       "        vertical-align: middle;\n",
       "    }\n",
       "\n",
       "    .dataframe tbody tr th {\n",
       "        vertical-align: top;\n",
       "    }\n",
       "\n",
       "    .dataframe thead th {\n",
       "        text-align: right;\n",
       "    }\n",
       "</style>\n",
       "<table border=\"1\" class=\"dataframe\">\n",
       "  <thead>\n",
       "    <tr style=\"text-align: right;\">\n",
       "      <th></th>\n",
       "      <th>A</th>\n",
       "      <th>B</th>\n",
       "      <th>C</th>\n",
       "      <th>D</th>\n",
       "      <th>G</th>\n",
       "    </tr>\n",
       "  </thead>\n",
       "  <tbody>\n",
       "    <tr>\n",
       "      <th>2017-03-01</th>\n",
       "      <td>0.000000</td>\n",
       "      <td>-2.032283</td>\n",
       "      <td>2.013236</td>\n",
       "      <td>4</td>\n",
       "      <td>1.0</td>\n",
       "    </tr>\n",
       "    <tr>\n",
       "      <th>2017-03-02</th>\n",
       "      <td>0.148779</td>\n",
       "      <td>1.000000</td>\n",
       "      <td>0.457113</td>\n",
       "      <td>4</td>\n",
       "      <td>1.0</td>\n",
       "    </tr>\n",
       "    <tr>\n",
       "      <th>2017-03-03</th>\n",
       "      <td>-0.858989</td>\n",
       "      <td>-0.193274</td>\n",
       "      <td>-0.727730</td>\n",
       "      <td>4</td>\n",
       "      <td>NaN</td>\n",
       "    </tr>\n",
       "    <tr>\n",
       "      <th>2017-03-04</th>\n",
       "      <td>-0.777631</td>\n",
       "      <td>-1.458266</td>\n",
       "      <td>-0.309941</td>\n",
       "      <td>4</td>\n",
       "      <td>NaN</td>\n",
       "    </tr>\n",
       "  </tbody>\n",
       "</table>\n",
       "</div>"
      ],
      "text/plain": [
       "                   A         B         C  D    G\n",
       "2017-03-01  0.000000 -2.032283  2.013236  4  1.0\n",
       "2017-03-02  0.148779  1.000000  0.457113  4  1.0\n",
       "2017-03-03 -0.858989 -0.193274 -0.727730  4  NaN\n",
       "2017-03-04 -0.777631 -1.458266 -0.309941  4  NaN"
      ]
     },
     "execution_count": 44,
     "metadata": {},
     "output_type": "execute_result"
    }
   ],
   "source": [
    "df1"
   ]
  },
  {
   "cell_type": "code",
   "execution_count": 45,
   "metadata": {},
   "outputs": [
    {
     "data": {
      "text/html": [
       "<div>\n",
       "<style scoped>\n",
       "    .dataframe tbody tr th:only-of-type {\n",
       "        vertical-align: middle;\n",
       "    }\n",
       "\n",
       "    .dataframe tbody tr th {\n",
       "        vertical-align: top;\n",
       "    }\n",
       "\n",
       "    .dataframe thead th {\n",
       "        text-align: right;\n",
       "    }\n",
       "</style>\n",
       "<table border=\"1\" class=\"dataframe\">\n",
       "  <thead>\n",
       "    <tr style=\"text-align: right;\">\n",
       "      <th></th>\n",
       "      <th>A</th>\n",
       "      <th>B</th>\n",
       "      <th>C</th>\n",
       "      <th>D</th>\n",
       "      <th>G</th>\n",
       "    </tr>\n",
       "  </thead>\n",
       "  <tbody>\n",
       "    <tr>\n",
       "      <th>2017-03-01</th>\n",
       "      <td>0.000000</td>\n",
       "      <td>-2.032283</td>\n",
       "      <td>2.013236</td>\n",
       "      <td>4</td>\n",
       "      <td>1.0</td>\n",
       "    </tr>\n",
       "    <tr>\n",
       "      <th>2017-03-02</th>\n",
       "      <td>0.148779</td>\n",
       "      <td>1.000000</td>\n",
       "      <td>0.457113</td>\n",
       "      <td>4</td>\n",
       "      <td>1.0</td>\n",
       "    </tr>\n",
       "  </tbody>\n",
       "</table>\n",
       "</div>"
      ],
      "text/plain": [
       "                   A         B         C  D    G\n",
       "2017-03-01  0.000000 -2.032283  2.013236  4  1.0\n",
       "2017-03-02  0.148779  1.000000  0.457113  4  1.0"
      ]
     },
     "execution_count": 45,
     "metadata": {},
     "output_type": "execute_result"
    }
   ],
   "source": [
    "df1.dropna()"
   ]
  },
  {
   "cell_type": "code",
   "execution_count": 46,
   "metadata": {},
   "outputs": [
    {
     "data": {
      "text/html": [
       "<div>\n",
       "<style scoped>\n",
       "    .dataframe tbody tr th:only-of-type {\n",
       "        vertical-align: middle;\n",
       "    }\n",
       "\n",
       "    .dataframe tbody tr th {\n",
       "        vertical-align: top;\n",
       "    }\n",
       "\n",
       "    .dataframe thead th {\n",
       "        text-align: right;\n",
       "    }\n",
       "</style>\n",
       "<table border=\"1\" class=\"dataframe\">\n",
       "  <thead>\n",
       "    <tr style=\"text-align: right;\">\n",
       "      <th></th>\n",
       "      <th>A</th>\n",
       "      <th>B</th>\n",
       "      <th>C</th>\n",
       "      <th>D</th>\n",
       "      <th>G</th>\n",
       "    </tr>\n",
       "  </thead>\n",
       "  <tbody>\n",
       "    <tr>\n",
       "      <th>2017-03-01</th>\n",
       "      <td>0.000000</td>\n",
       "      <td>-2.032283</td>\n",
       "      <td>2.013236</td>\n",
       "      <td>4</td>\n",
       "      <td>1.0</td>\n",
       "    </tr>\n",
       "    <tr>\n",
       "      <th>2017-03-02</th>\n",
       "      <td>0.148779</td>\n",
       "      <td>1.000000</td>\n",
       "      <td>0.457113</td>\n",
       "      <td>4</td>\n",
       "      <td>1.0</td>\n",
       "    </tr>\n",
       "    <tr>\n",
       "      <th>2017-03-03</th>\n",
       "      <td>-0.858989</td>\n",
       "      <td>-0.193274</td>\n",
       "      <td>-0.727730</td>\n",
       "      <td>4</td>\n",
       "      <td>2.0</td>\n",
       "    </tr>\n",
       "    <tr>\n",
       "      <th>2017-03-04</th>\n",
       "      <td>-0.777631</td>\n",
       "      <td>-1.458266</td>\n",
       "      <td>-0.309941</td>\n",
       "      <td>4</td>\n",
       "      <td>2.0</td>\n",
       "    </tr>\n",
       "  </tbody>\n",
       "</table>\n",
       "</div>"
      ],
      "text/plain": [
       "                   A         B         C  D    G\n",
       "2017-03-01  0.000000 -2.032283  2.013236  4  1.0\n",
       "2017-03-02  0.148779  1.000000  0.457113  4  1.0\n",
       "2017-03-03 -0.858989 -0.193274 -0.727730  4  2.0\n",
       "2017-03-04 -0.777631 -1.458266 -0.309941  4  2.0"
      ]
     },
     "execution_count": 46,
     "metadata": {},
     "output_type": "execute_result"
    }
   ],
   "source": [
    "df1.fillna(value=2)"
   ]
  },
  {
   "cell_type": "code",
   "execution_count": 47,
   "metadata": {},
   "outputs": [],
   "source": [
    "# Statistic 统计"
   ]
  },
  {
   "cell_type": "code",
   "execution_count": 48,
   "metadata": {},
   "outputs": [
    {
     "data": {
      "text/plain": [
       "A    -0.235311\n",
       "B    -0.355661\n",
       "C     0.352801\n",
       "D     4.000000\n",
       "E    -0.100859\n",
       "F    13.500000\n",
       "dtype: float64"
      ]
     },
     "execution_count": 48,
     "metadata": {},
     "output_type": "execute_result"
    }
   ],
   "source": [
    "df.mean()"
   ]
  },
  {
   "cell_type": "code",
   "execution_count": 49,
   "metadata": {},
   "outputs": [
    {
     "data": {
      "text/plain": [
       "A    0.687845\n",
       "B    1.565107\n",
       "C    1.723065\n",
       "D    0.000000\n",
       "E    1.138152\n",
       "F    6.000000\n",
       "dtype: float64"
      ]
     },
     "execution_count": 49,
     "metadata": {},
     "output_type": "execute_result"
    }
   ],
   "source": [
    "df.var()"
   ]
  },
  {
   "cell_type": "code",
   "execution_count": 50,
   "metadata": {},
   "outputs": [],
   "source": [
    "s = pd.Series([1, 2, 4, np.nan, 5, 7, 9, 10], index=dates)"
   ]
  },
  {
   "cell_type": "code",
   "execution_count": 51,
   "metadata": {},
   "outputs": [
    {
     "data": {
      "text/plain": [
       "2017-03-01     1.0\n",
       "2017-03-02     2.0\n",
       "2017-03-03     4.0\n",
       "2017-03-04     NaN\n",
       "2017-03-05     5.0\n",
       "2017-03-06     7.0\n",
       "2017-03-07     9.0\n",
       "2017-03-08    10.0\n",
       "Freq: D, dtype: float64"
      ]
     },
     "execution_count": 51,
     "metadata": {},
     "output_type": "execute_result"
    }
   ],
   "source": [
    "s"
   ]
  },
  {
   "cell_type": "code",
   "execution_count": 52,
   "metadata": {},
   "outputs": [
    {
     "data": {
      "text/plain": [
       "2017-03-01    NaN\n",
       "2017-03-02    NaN\n",
       "2017-03-03    1.0\n",
       "2017-03-04    2.0\n",
       "2017-03-05    4.0\n",
       "2017-03-06    NaN\n",
       "2017-03-07    5.0\n",
       "2017-03-08    7.0\n",
       "Freq: D, dtype: float64"
      ]
     },
     "execution_count": 52,
     "metadata": {},
     "output_type": "execute_result"
    }
   ],
   "source": [
    "s.shift(2)"
   ]
  },
  {
   "cell_type": "code",
   "execution_count": 53,
   "metadata": {},
   "outputs": [
    {
     "data": {
      "text/plain": [
       "2017-03-01    NaN\n",
       "2017-03-02    1.0\n",
       "2017-03-03    2.0\n",
       "2017-03-04    NaN\n",
       "2017-03-05    NaN\n",
       "2017-03-06    2.0\n",
       "2017-03-07    2.0\n",
       "2017-03-08    1.0\n",
       "Freq: D, dtype: float64"
      ]
     },
     "execution_count": 53,
     "metadata": {},
     "output_type": "execute_result"
    }
   ],
   "source": [
    "s.diff()"
   ]
  },
  {
   "cell_type": "code",
   "execution_count": 54,
   "metadata": {},
   "outputs": [
    {
     "data": {
      "text/plain": [
       "10.0    1\n",
       "9.0     1\n",
       "7.0     1\n",
       "5.0     1\n",
       "4.0     1\n",
       "2.0     1\n",
       "1.0     1\n",
       "dtype: int64"
      ]
     },
     "execution_count": 54,
     "metadata": {},
     "output_type": "execute_result"
    }
   ],
   "source": [
    "s.value_counts()"
   ]
  },
  {
   "cell_type": "code",
   "execution_count": 55,
   "metadata": {},
   "outputs": [
    {
     "data": {
      "text/html": [
       "<div>\n",
       "<style scoped>\n",
       "    .dataframe tbody tr th:only-of-type {\n",
       "        vertical-align: middle;\n",
       "    }\n",
       "\n",
       "    .dataframe tbody tr th {\n",
       "        vertical-align: top;\n",
       "    }\n",
       "\n",
       "    .dataframe thead th {\n",
       "        text-align: right;\n",
       "    }\n",
       "</style>\n",
       "<table border=\"1\" class=\"dataframe\">\n",
       "  <thead>\n",
       "    <tr style=\"text-align: right;\">\n",
       "      <th></th>\n",
       "      <th>A</th>\n",
       "      <th>B</th>\n",
       "      <th>C</th>\n",
       "      <th>D</th>\n",
       "      <th>E</th>\n",
       "      <th>F</th>\n",
       "    </tr>\n",
       "  </thead>\n",
       "  <tbody>\n",
       "    <tr>\n",
       "      <th>2017-03-01</th>\n",
       "      <td>0.000000</td>\n",
       "      <td>-2.032283</td>\n",
       "      <td>2.013236</td>\n",
       "      <td>4</td>\n",
       "      <td>1.093592</td>\n",
       "      <td>10</td>\n",
       "    </tr>\n",
       "    <tr>\n",
       "      <th>2017-03-02</th>\n",
       "      <td>0.148779</td>\n",
       "      <td>-1.032283</td>\n",
       "      <td>2.470349</td>\n",
       "      <td>8</td>\n",
       "      <td>-0.423402</td>\n",
       "      <td>21</td>\n",
       "    </tr>\n",
       "    <tr>\n",
       "      <th>2017-03-03</th>\n",
       "      <td>-0.710210</td>\n",
       "      <td>-1.225557</td>\n",
       "      <td>1.742619</td>\n",
       "      <td>12</td>\n",
       "      <td>0.401990</td>\n",
       "      <td>33</td>\n",
       "    </tr>\n",
       "    <tr>\n",
       "      <th>2017-03-04</th>\n",
       "      <td>-1.487840</td>\n",
       "      <td>-2.683823</td>\n",
       "      <td>1.432678</td>\n",
       "      <td>16</td>\n",
       "      <td>0.288460</td>\n",
       "      <td>46</td>\n",
       "    </tr>\n",
       "    <tr>\n",
       "      <th>2017-03-05</th>\n",
       "      <td>-0.638567</td>\n",
       "      <td>-3.110654</td>\n",
       "      <td>1.916067</td>\n",
       "      <td>20</td>\n",
       "      <td>-0.183702</td>\n",
       "      <td>60</td>\n",
       "    </tr>\n",
       "    <tr>\n",
       "      <th>2017-03-06</th>\n",
       "      <td>0.143581</td>\n",
       "      <td>-1.551318</td>\n",
       "      <td>1.551969</td>\n",
       "      <td>24</td>\n",
       "      <td>0.377226</td>\n",
       "      <td>75</td>\n",
       "    </tr>\n",
       "    <tr>\n",
       "      <th>2017-03-07</th>\n",
       "      <td>-1.373276</td>\n",
       "      <td>-1.416401</td>\n",
       "      <td>0.316862</td>\n",
       "      <td>28</td>\n",
       "      <td>0.929389</td>\n",
       "      <td>91</td>\n",
       "    </tr>\n",
       "    <tr>\n",
       "      <th>2017-03-08</th>\n",
       "      <td>-1.882491</td>\n",
       "      <td>-2.845291</td>\n",
       "      <td>2.822405</td>\n",
       "      <td>32</td>\n",
       "      <td>-0.806871</td>\n",
       "      <td>108</td>\n",
       "    </tr>\n",
       "  </tbody>\n",
       "</table>\n",
       "</div>"
      ],
      "text/plain": [
       "                   A         B         C   D         E    F\n",
       "2017-03-01  0.000000 -2.032283  2.013236   4  1.093592   10\n",
       "2017-03-02  0.148779 -1.032283  2.470349   8 -0.423402   21\n",
       "2017-03-03 -0.710210 -1.225557  1.742619  12  0.401990   33\n",
       "2017-03-04 -1.487840 -2.683823  1.432678  16  0.288460   46\n",
       "2017-03-05 -0.638567 -3.110654  1.916067  20 -0.183702   60\n",
       "2017-03-06  0.143581 -1.551318  1.551969  24  0.377226   75\n",
       "2017-03-07 -1.373276 -1.416401  0.316862  28  0.929389   91\n",
       "2017-03-08 -1.882491 -2.845291  2.822405  32 -0.806871  108"
      ]
     },
     "execution_count": 55,
     "metadata": {},
     "output_type": "execute_result"
    }
   ],
   "source": [
    "df.apply(np.cumsum)"
   ]
  },
  {
   "cell_type": "code",
   "execution_count": 56,
   "metadata": {},
   "outputs": [
    {
     "data": {
      "text/plain": [
       "A    2.366130\n",
       "B    3.591619\n",
       "C    3.740652\n",
       "D    0.000000\n",
       "E    2.829853\n",
       "F    7.000000\n",
       "dtype: float64"
      ]
     },
     "execution_count": 56,
     "metadata": {},
     "output_type": "execute_result"
    }
   ],
   "source": [
    "df.apply(lambda x:x.max()-x.min())"
   ]
  },
  {
   "cell_type": "code",
   "execution_count": 57,
   "metadata": {},
   "outputs": [],
   "source": [
    "# Concat"
   ]
  },
  {
   "cell_type": "code",
   "execution_count": 58,
   "metadata": {},
   "outputs": [
    {
     "data": {
      "text/html": [
       "<div>\n",
       "<style scoped>\n",
       "    .dataframe tbody tr th:only-of-type {\n",
       "        vertical-align: middle;\n",
       "    }\n",
       "\n",
       "    .dataframe tbody tr th {\n",
       "        vertical-align: top;\n",
       "    }\n",
       "\n",
       "    .dataframe thead th {\n",
       "        text-align: right;\n",
       "    }\n",
       "</style>\n",
       "<table border=\"1\" class=\"dataframe\">\n",
       "  <thead>\n",
       "    <tr style=\"text-align: right;\">\n",
       "      <th></th>\n",
       "      <th>A</th>\n",
       "      <th>B</th>\n",
       "      <th>C</th>\n",
       "      <th>D</th>\n",
       "      <th>E</th>\n",
       "      <th>F</th>\n",
       "    </tr>\n",
       "  </thead>\n",
       "  <tbody>\n",
       "    <tr>\n",
       "      <th>2017-03-01</th>\n",
       "      <td>0.000000</td>\n",
       "      <td>-2.032283</td>\n",
       "      <td>2.013236</td>\n",
       "      <td>4</td>\n",
       "      <td>1.093592</td>\n",
       "      <td>10</td>\n",
       "    </tr>\n",
       "    <tr>\n",
       "      <th>2017-03-02</th>\n",
       "      <td>0.148779</td>\n",
       "      <td>1.000000</td>\n",
       "      <td>0.457113</td>\n",
       "      <td>4</td>\n",
       "      <td>-1.516994</td>\n",
       "      <td>11</td>\n",
       "    </tr>\n",
       "    <tr>\n",
       "      <th>2017-03-03</th>\n",
       "      <td>-0.858989</td>\n",
       "      <td>-0.193274</td>\n",
       "      <td>-0.727730</td>\n",
       "      <td>4</td>\n",
       "      <td>0.825392</td>\n",
       "      <td>12</td>\n",
       "    </tr>\n",
       "  </tbody>\n",
       "</table>\n",
       "</div>"
      ],
      "text/plain": [
       "                   A         B         C  D         E   F\n",
       "2017-03-01  0.000000 -2.032283  2.013236  4  1.093592  10\n",
       "2017-03-02  0.148779  1.000000  0.457113  4 -1.516994  11\n",
       "2017-03-03 -0.858989 -0.193274 -0.727730  4  0.825392  12"
      ]
     },
     "execution_count": 58,
     "metadata": {},
     "output_type": "execute_result"
    }
   ],
   "source": [
    "df[:3]"
   ]
  },
  {
   "cell_type": "code",
   "execution_count": 59,
   "metadata": {},
   "outputs": [],
   "source": [
    "pieces = [df[:3], df[-3:]]"
   ]
  },
  {
   "cell_type": "code",
   "execution_count": 60,
   "metadata": {},
   "outputs": [
    {
     "data": {
      "text/html": [
       "<div>\n",
       "<style scoped>\n",
       "    .dataframe tbody tr th:only-of-type {\n",
       "        vertical-align: middle;\n",
       "    }\n",
       "\n",
       "    .dataframe tbody tr th {\n",
       "        vertical-align: top;\n",
       "    }\n",
       "\n",
       "    .dataframe thead th {\n",
       "        text-align: right;\n",
       "    }\n",
       "</style>\n",
       "<table border=\"1\" class=\"dataframe\">\n",
       "  <thead>\n",
       "    <tr style=\"text-align: right;\">\n",
       "      <th></th>\n",
       "      <th>A</th>\n",
       "      <th>B</th>\n",
       "      <th>C</th>\n",
       "      <th>D</th>\n",
       "      <th>E</th>\n",
       "      <th>F</th>\n",
       "    </tr>\n",
       "  </thead>\n",
       "  <tbody>\n",
       "    <tr>\n",
       "      <th>2017-03-01</th>\n",
       "      <td>0.000000</td>\n",
       "      <td>-2.032283</td>\n",
       "      <td>2.013236</td>\n",
       "      <td>4</td>\n",
       "      <td>1.093592</td>\n",
       "      <td>10</td>\n",
       "    </tr>\n",
       "    <tr>\n",
       "      <th>2017-03-02</th>\n",
       "      <td>0.148779</td>\n",
       "      <td>1.000000</td>\n",
       "      <td>0.457113</td>\n",
       "      <td>4</td>\n",
       "      <td>-1.516994</td>\n",
       "      <td>11</td>\n",
       "    </tr>\n",
       "    <tr>\n",
       "      <th>2017-03-03</th>\n",
       "      <td>-0.858989</td>\n",
       "      <td>-0.193274</td>\n",
       "      <td>-0.727730</td>\n",
       "      <td>4</td>\n",
       "      <td>0.825392</td>\n",
       "      <td>12</td>\n",
       "    </tr>\n",
       "    <tr>\n",
       "      <th>2017-03-06</th>\n",
       "      <td>0.782149</td>\n",
       "      <td>1.559336</td>\n",
       "      <td>-0.364098</td>\n",
       "      <td>4</td>\n",
       "      <td>0.560928</td>\n",
       "      <td>15</td>\n",
       "    </tr>\n",
       "    <tr>\n",
       "      <th>2017-03-07</th>\n",
       "      <td>-1.516858</td>\n",
       "      <td>0.134917</td>\n",
       "      <td>-1.235108</td>\n",
       "      <td>4</td>\n",
       "      <td>0.552164</td>\n",
       "      <td>16</td>\n",
       "    </tr>\n",
       "    <tr>\n",
       "      <th>2017-03-08</th>\n",
       "      <td>-0.509215</td>\n",
       "      <td>-1.428890</td>\n",
       "      <td>2.505544</td>\n",
       "      <td>4</td>\n",
       "      <td>-1.736261</td>\n",
       "      <td>17</td>\n",
       "    </tr>\n",
       "  </tbody>\n",
       "</table>\n",
       "</div>"
      ],
      "text/plain": [
       "                   A         B         C  D         E   F\n",
       "2017-03-01  0.000000 -2.032283  2.013236  4  1.093592  10\n",
       "2017-03-02  0.148779  1.000000  0.457113  4 -1.516994  11\n",
       "2017-03-03 -0.858989 -0.193274 -0.727730  4  0.825392  12\n",
       "2017-03-06  0.782149  1.559336 -0.364098  4  0.560928  15\n",
       "2017-03-07 -1.516858  0.134917 -1.235108  4  0.552164  16\n",
       "2017-03-08 -0.509215 -1.428890  2.505544  4 -1.736261  17"
      ]
     },
     "execution_count": 60,
     "metadata": {},
     "output_type": "execute_result"
    }
   ],
   "source": [
    "pd.concat(pieces)"
   ]
  },
  {
   "cell_type": "code",
   "execution_count": 61,
   "metadata": {},
   "outputs": [],
   "source": [
    "left = pd.DataFrame({\"key\":[\"x\",\"y\"], \"value\":[1, 2]})"
   ]
  },
  {
   "cell_type": "code",
   "execution_count": 62,
   "metadata": {},
   "outputs": [
    {
     "data": {
      "text/html": [
       "<div>\n",
       "<style scoped>\n",
       "    .dataframe tbody tr th:only-of-type {\n",
       "        vertical-align: middle;\n",
       "    }\n",
       "\n",
       "    .dataframe tbody tr th {\n",
       "        vertical-align: top;\n",
       "    }\n",
       "\n",
       "    .dataframe thead th {\n",
       "        text-align: right;\n",
       "    }\n",
       "</style>\n",
       "<table border=\"1\" class=\"dataframe\">\n",
       "  <thead>\n",
       "    <tr style=\"text-align: right;\">\n",
       "      <th></th>\n",
       "      <th>key</th>\n",
       "      <th>value</th>\n",
       "    </tr>\n",
       "  </thead>\n",
       "  <tbody>\n",
       "    <tr>\n",
       "      <th>0</th>\n",
       "      <td>x</td>\n",
       "      <td>1</td>\n",
       "    </tr>\n",
       "    <tr>\n",
       "      <th>1</th>\n",
       "      <td>y</td>\n",
       "      <td>2</td>\n",
       "    </tr>\n",
       "  </tbody>\n",
       "</table>\n",
       "</div>"
      ],
      "text/plain": [
       "  key  value\n",
       "0   x      1\n",
       "1   y      2"
      ]
     },
     "execution_count": 62,
     "metadata": {},
     "output_type": "execute_result"
    }
   ],
   "source": [
    "left"
   ]
  },
  {
   "cell_type": "code",
   "execution_count": 63,
   "metadata": {},
   "outputs": [],
   "source": [
    "right = pd.DataFrame({\"key\":[\"x\",\"z\"], \"value\":[3, 4]})"
   ]
  },
  {
   "cell_type": "code",
   "execution_count": 64,
   "metadata": {},
   "outputs": [
    {
     "data": {
      "text/html": [
       "<div>\n",
       "<style scoped>\n",
       "    .dataframe tbody tr th:only-of-type {\n",
       "        vertical-align: middle;\n",
       "    }\n",
       "\n",
       "    .dataframe tbody tr th {\n",
       "        vertical-align: top;\n",
       "    }\n",
       "\n",
       "    .dataframe thead th {\n",
       "        text-align: right;\n",
       "    }\n",
       "</style>\n",
       "<table border=\"1\" class=\"dataframe\">\n",
       "  <thead>\n",
       "    <tr style=\"text-align: right;\">\n",
       "      <th></th>\n",
       "      <th>key</th>\n",
       "      <th>value</th>\n",
       "    </tr>\n",
       "  </thead>\n",
       "  <tbody>\n",
       "    <tr>\n",
       "      <th>0</th>\n",
       "      <td>x</td>\n",
       "      <td>3</td>\n",
       "    </tr>\n",
       "    <tr>\n",
       "      <th>1</th>\n",
       "      <td>z</td>\n",
       "      <td>4</td>\n",
       "    </tr>\n",
       "  </tbody>\n",
       "</table>\n",
       "</div>"
      ],
      "text/plain": [
       "  key  value\n",
       "0   x      3\n",
       "1   z      4"
      ]
     },
     "execution_count": 64,
     "metadata": {},
     "output_type": "execute_result"
    }
   ],
   "source": [
    "right"
   ]
  },
  {
   "cell_type": "code",
   "execution_count": 65,
   "metadata": {},
   "outputs": [
    {
     "data": {
      "text/html": [
       "<div>\n",
       "<style scoped>\n",
       "    .dataframe tbody tr th:only-of-type {\n",
       "        vertical-align: middle;\n",
       "    }\n",
       "\n",
       "    .dataframe tbody tr th {\n",
       "        vertical-align: top;\n",
       "    }\n",
       "\n",
       "    .dataframe thead th {\n",
       "        text-align: right;\n",
       "    }\n",
       "</style>\n",
       "<table border=\"1\" class=\"dataframe\">\n",
       "  <thead>\n",
       "    <tr style=\"text-align: right;\">\n",
       "      <th></th>\n",
       "      <th>key</th>\n",
       "      <th>value_x</th>\n",
       "      <th>value_y</th>\n",
       "    </tr>\n",
       "  </thead>\n",
       "  <tbody>\n",
       "    <tr>\n",
       "      <th>0</th>\n",
       "      <td>x</td>\n",
       "      <td>1.0</td>\n",
       "      <td>3.0</td>\n",
       "    </tr>\n",
       "    <tr>\n",
       "      <th>1</th>\n",
       "      <td>y</td>\n",
       "      <td>2.0</td>\n",
       "      <td>NaN</td>\n",
       "    </tr>\n",
       "    <tr>\n",
       "      <th>2</th>\n",
       "      <td>z</td>\n",
       "      <td>NaN</td>\n",
       "      <td>4.0</td>\n",
       "    </tr>\n",
       "  </tbody>\n",
       "</table>\n",
       "</div>"
      ],
      "text/plain": [
       "  key  value_x  value_y\n",
       "0   x      1.0      3.0\n",
       "1   y      2.0      NaN\n",
       "2   z      NaN      4.0"
      ]
     },
     "execution_count": 65,
     "metadata": {},
     "output_type": "execute_result"
    }
   ],
   "source": [
    "pd.merge(left, right, on=\"key\", how=\"outer\")"
   ]
  },
  {
   "cell_type": "code",
   "execution_count": 66,
   "metadata": {},
   "outputs": [],
   "source": [
    "df3 = pd.DataFrame({\"A\": [\"a\", \"b\", \"c\", \"b\"], \"B\": list(range(4))})"
   ]
  },
  {
   "cell_type": "code",
   "execution_count": 67,
   "metadata": {},
   "outputs": [
    {
     "data": {
      "text/html": [
       "<div>\n",
       "<style scoped>\n",
       "    .dataframe tbody tr th:only-of-type {\n",
       "        vertical-align: middle;\n",
       "    }\n",
       "\n",
       "    .dataframe tbody tr th {\n",
       "        vertical-align: top;\n",
       "    }\n",
       "\n",
       "    .dataframe thead th {\n",
       "        text-align: right;\n",
       "    }\n",
       "</style>\n",
       "<table border=\"1\" class=\"dataframe\">\n",
       "  <thead>\n",
       "    <tr style=\"text-align: right;\">\n",
       "      <th></th>\n",
       "      <th>A</th>\n",
       "      <th>B</th>\n",
       "    </tr>\n",
       "  </thead>\n",
       "  <tbody>\n",
       "    <tr>\n",
       "      <th>0</th>\n",
       "      <td>a</td>\n",
       "      <td>0</td>\n",
       "    </tr>\n",
       "    <tr>\n",
       "      <th>1</th>\n",
       "      <td>b</td>\n",
       "      <td>1</td>\n",
       "    </tr>\n",
       "    <tr>\n",
       "      <th>2</th>\n",
       "      <td>c</td>\n",
       "      <td>2</td>\n",
       "    </tr>\n",
       "    <tr>\n",
       "      <th>3</th>\n",
       "      <td>b</td>\n",
       "      <td>3</td>\n",
       "    </tr>\n",
       "  </tbody>\n",
       "</table>\n",
       "</div>"
      ],
      "text/plain": [
       "   A  B\n",
       "0  a  0\n",
       "1  b  1\n",
       "2  c  2\n",
       "3  b  3"
      ]
     },
     "execution_count": 67,
     "metadata": {},
     "output_type": "execute_result"
    }
   ],
   "source": [
    "df3"
   ]
  },
  {
   "cell_type": "code",
   "execution_count": 68,
   "metadata": {},
   "outputs": [
    {
     "data": {
      "text/html": [
       "<div>\n",
       "<style scoped>\n",
       "    .dataframe tbody tr th:only-of-type {\n",
       "        vertical-align: middle;\n",
       "    }\n",
       "\n",
       "    .dataframe tbody tr th {\n",
       "        vertical-align: top;\n",
       "    }\n",
       "\n",
       "    .dataframe thead th {\n",
       "        text-align: right;\n",
       "    }\n",
       "</style>\n",
       "<table border=\"1\" class=\"dataframe\">\n",
       "  <thead>\n",
       "    <tr style=\"text-align: right;\">\n",
       "      <th></th>\n",
       "      <th>B</th>\n",
       "    </tr>\n",
       "    <tr>\n",
       "      <th>A</th>\n",
       "      <th></th>\n",
       "    </tr>\n",
       "  </thead>\n",
       "  <tbody>\n",
       "    <tr>\n",
       "      <th>a</th>\n",
       "      <td>0</td>\n",
       "    </tr>\n",
       "    <tr>\n",
       "      <th>b</th>\n",
       "      <td>4</td>\n",
       "    </tr>\n",
       "    <tr>\n",
       "      <th>c</th>\n",
       "      <td>2</td>\n",
       "    </tr>\n",
       "  </tbody>\n",
       "</table>\n",
       "</div>"
      ],
      "text/plain": [
       "   B\n",
       "A   \n",
       "a  0\n",
       "b  4\n",
       "c  2"
      ]
     },
     "execution_count": 68,
     "metadata": {},
     "output_type": "execute_result"
    }
   ],
   "source": [
    "df3.groupby(\"A\").sum()"
   ]
  },
  {
   "cell_type": "code",
   "execution_count": 73,
   "metadata": {},
   "outputs": [],
   "source": [
    "# Time Series"
   ]
  },
  {
   "cell_type": "code",
   "execution_count": 74,
   "metadata": {},
   "outputs": [],
   "source": [
    "t_exam = pd.date_range(\"20170301\", periods=10, freq=\"S\")"
   ]
  },
  {
   "cell_type": "code",
   "execution_count": 75,
   "metadata": {},
   "outputs": [
    {
     "data": {
      "text/plain": [
       "DatetimeIndex(['2017-03-01 00:00:00', '2017-03-01 00:00:01',\n",
       "               '2017-03-01 00:00:02', '2017-03-01 00:00:03',\n",
       "               '2017-03-01 00:00:04', '2017-03-01 00:00:05',\n",
       "               '2017-03-01 00:00:06', '2017-03-01 00:00:07',\n",
       "               '2017-03-01 00:00:08', '2017-03-01 00:00:09'],\n",
       "              dtype='datetime64[ns]', freq='S')"
      ]
     },
     "execution_count": 75,
     "metadata": {},
     "output_type": "execute_result"
    }
   ],
   "source": [
    "t_exam"
   ]
  },
  {
   "cell_type": "code",
   "execution_count": 76,
   "metadata": {},
   "outputs": [],
   "source": [
    "# Graph"
   ]
  },
  {
   "cell_type": "code",
   "execution_count": 77,
   "metadata": {},
   "outputs": [],
   "source": [
    "ts = pd.Series(np.random.randn(1000), index=pd.date_range(\"20170301\", periods=1000))"
   ]
  },
  {
   "cell_type": "code",
   "execution_count": 78,
   "metadata": {},
   "outputs": [],
   "source": [
    "ts = ts.cumsum()"
   ]
  },
  {
   "cell_type": "code",
   "execution_count": 79,
   "metadata": {},
   "outputs": [],
   "source": [
    "from pylab import *"
   ]
  },
  {
   "cell_type": "code",
   "execution_count": 80,
   "metadata": {},
   "outputs": [
    {
     "data": {
      "text/plain": [
       "<matplotlib.axes._subplots.AxesSubplot at 0x7f74cab3d8d0>"
      ]
     },
     "execution_count": 80,
     "metadata": {},
     "output_type": "execute_result"
    },
    {
     "data": {
      "image/png": "[encoded data removed]",
      "text/plain": [
       "<Figure size 432x288 with 1 Axes>"
      ]
     },
     "metadata": {},
     "output_type": "display_data"
    }
   ],
   "source": [
    "ts.plot()"
   ]
  },
  {
   "cell_type": "code",
   "execution_count": 81,
   "metadata": {},
   "outputs": [],
   "source": [
    "# File"
   ]
  },
  {
   "cell_type": "code",
   "execution_count": 86,
   "metadata": {},
   "outputs": [],
   "source": [
    "df.to_csv(\"./data/test.csv\")"
   ]
  },
  {
   "cell_type": "code",
   "execution_count": 87,
   "metadata": {},
   "outputs": [],
   "source": [
    "df.to_excel(\"./data/test.xlsx\")"
   ]
  },
  {
   "cell_type": "code",
   "execution_count": 91,
   "metadata": {},
   "outputs": [],
   "source": [
    "df6 = pd.read_csv(\"./data/test.csv\")"
   ]
  },
  {
   "cell_type": "code",
   "execution_count": 92,
   "metadata": {},
   "outputs": [
    {
     "data": {
      "text/html": [
       "<div>\n",
       "<style scoped>\n",
       "    .dataframe tbody tr th:only-of-type {\n",
       "        vertical-align: middle;\n",
       "    }\n",
       "\n",
       "    .dataframe tbody tr th {\n",
       "        vertical-align: top;\n",
       "    }\n",
       "\n",
       "    .dataframe thead th {\n",
       "        text-align: right;\n",
       "    }\n",
       "</style>\n",
       "<table border=\"1\" class=\"dataframe\">\n",
       "  <thead>\n",
       "    <tr style=\"text-align: right;\">\n",
       "      <th></th>\n",
       "      <th>Unnamed: 0</th>\n",
       "      <th>A</th>\n",
       "      <th>B</th>\n",
       "      <th>C</th>\n",
       "      <th>D</th>\n",
       "      <th>E</th>\n",
       "      <th>F</th>\n",
       "    </tr>\n",
       "  </thead>\n",
       "  <tbody>\n",
       "    <tr>\n",
       "      <th>0</th>\n",
       "      <td>2017-03-01</td>\n",
       "      <td>0.000000</td>\n",
       "      <td>-2.032283</td>\n",
       "      <td>2.013236</td>\n",
       "      <td>4</td>\n",
       "      <td>1.093592</td>\n",
       "      <td>10</td>\n",
       "    </tr>\n",
       "    <tr>\n",
       "      <th>1</th>\n",
       "      <td>2017-03-02</td>\n",
       "      <td>0.148779</td>\n",
       "      <td>1.000000</td>\n",
       "      <td>0.457113</td>\n",
       "      <td>4</td>\n",
       "      <td>-1.516994</td>\n",
       "      <td>11</td>\n",
       "    </tr>\n",
       "    <tr>\n",
       "      <th>2</th>\n",
       "      <td>2017-03-03</td>\n",
       "      <td>-0.858989</td>\n",
       "      <td>-0.193274</td>\n",
       "      <td>-0.727730</td>\n",
       "      <td>4</td>\n",
       "      <td>0.825392</td>\n",
       "      <td>12</td>\n",
       "    </tr>\n",
       "    <tr>\n",
       "      <th>3</th>\n",
       "      <td>2017-03-04</td>\n",
       "      <td>-0.777631</td>\n",
       "      <td>-1.458266</td>\n",
       "      <td>-0.309941</td>\n",
       "      <td>4</td>\n",
       "      <td>-0.113530</td>\n",
       "      <td>13</td>\n",
       "    </tr>\n",
       "    <tr>\n",
       "      <th>4</th>\n",
       "      <td>2017-03-05</td>\n",
       "      <td>0.849273</td>\n",
       "      <td>-0.426831</td>\n",
       "      <td>0.483389</td>\n",
       "      <td>4</td>\n",
       "      <td>-0.472163</td>\n",
       "      <td>14</td>\n",
       "    </tr>\n",
       "    <tr>\n",
       "      <th>5</th>\n",
       "      <td>2017-03-06</td>\n",
       "      <td>0.782149</td>\n",
       "      <td>1.559336</td>\n",
       "      <td>-0.364098</td>\n",
       "      <td>4</td>\n",
       "      <td>0.560928</td>\n",
       "      <td>15</td>\n",
       "    </tr>\n",
       "    <tr>\n",
       "      <th>6</th>\n",
       "      <td>2017-03-07</td>\n",
       "      <td>-1.516858</td>\n",
       "      <td>0.134917</td>\n",
       "      <td>-1.235108</td>\n",
       "      <td>4</td>\n",
       "      <td>0.552164</td>\n",
       "      <td>16</td>\n",
       "    </tr>\n",
       "    <tr>\n",
       "      <th>7</th>\n",
       "      <td>2017-03-08</td>\n",
       "      <td>-0.509215</td>\n",
       "      <td>-1.428890</td>\n",
       "      <td>2.505544</td>\n",
       "      <td>4</td>\n",
       "      <td>-1.736261</td>\n",
       "      <td>17</td>\n",
       "    </tr>\n",
       "  </tbody>\n",
       "</table>\n",
       "</div>"
      ],
      "text/plain": [
       "   Unnamed: 0         A         B         C  D         E   F\n",
       "0  2017-03-01  0.000000 -2.032283  2.013236  4  1.093592  10\n",
       "1  2017-03-02  0.148779  1.000000  0.457113  4 -1.516994  11\n",
       "2  2017-03-03 -0.858989 -0.193274 -0.727730  4  0.825392  12\n",
       "3  2017-03-04 -0.777631 -1.458266 -0.309941  4 -0.113530  13\n",
       "4  2017-03-05  0.849273 -0.426831  0.483389  4 -0.472163  14\n",
       "5  2017-03-06  0.782149  1.559336 -0.364098  4  0.560928  15\n",
       "6  2017-03-07 -1.516858  0.134917 -1.235108  4  0.552164  16\n",
       "7  2017-03-08 -0.509215 -1.428890  2.505544  4 -1.736261  17"
      ]
     },
     "execution_count": 92,
     "metadata": {},
     "output_type": "execute_result"
    }
   ],
   "source": [
    "df6"
   ]
  },
  {
   "cell_type": "code",
   "execution_count": 97,
   "metadata": {},
   "outputs": [],
   "source": [
    "df7 = pd.read_excel(\"./data/test.xlsx\",\"Sheet1\")"
   ]
  },
  {
   "cell_type": "code",
   "execution_count": 98,
   "metadata": {},
   "outputs": [
    {
     "data": {
      "text/html": [
       "<div>\n",
       "<style scoped>\n",
       "    .dataframe tbody tr th:only-of-type {\n",
       "        vertical-align: middle;\n",
       "    }\n",
       "\n",
       "    .dataframe tbody tr th {\n",
       "        vertical-align: top;\n",
       "    }\n",
       "\n",
       "    .dataframe thead th {\n",
       "        text-align: right;\n",
       "    }\n",
       "</style>\n",
       "<table border=\"1\" class=\"dataframe\">\n",
       "  <thead>\n",
       "    <tr style=\"text-align: right;\">\n",
       "      <th></th>\n",
       "      <th>A</th>\n",
       "      <th>B</th>\n",
       "      <th>C</th>\n",
       "      <th>D</th>\n",
       "      <th>E</th>\n",
       "      <th>F</th>\n",
       "    </tr>\n",
       "  </thead>\n",
       "  <tbody>\n",
       "    <tr>\n",
       "      <th>2017-03-01</th>\n",
       "      <td>0.000000</td>\n",
       "      <td>-2.032283</td>\n",
       "      <td>2.013236</td>\n",
       "      <td>4</td>\n",
       "      <td>1.093592</td>\n",
       "      <td>10</td>\n",
       "    </tr>\n",
       "    <tr>\n",
       "      <th>2017-03-02</th>\n",
       "      <td>0.148779</td>\n",
       "      <td>1.000000</td>\n",
       "      <td>0.457113</td>\n",
       "      <td>4</td>\n",
       "      <td>-1.516994</td>\n",
       "      <td>11</td>\n",
       "    </tr>\n",
       "    <tr>\n",
       "      <th>2017-03-03</th>\n",
       "      <td>-0.858989</td>\n",
       "      <td>-0.193274</td>\n",
       "      <td>-0.727730</td>\n",
       "      <td>4</td>\n",
       "      <td>0.825392</td>\n",
       "      <td>12</td>\n",
       "    </tr>\n",
       "    <tr>\n",
       "      <th>2017-03-04</th>\n",
       "      <td>-0.777631</td>\n",
       "      <td>-1.458266</td>\n",
       "      <td>-0.309941</td>\n",
       "      <td>4</td>\n",
       "      <td>-0.113530</td>\n",
       "      <td>13</td>\n",
       "    </tr>\n",
       "    <tr>\n",
       "      <th>2017-03-05</th>\n",
       "      <td>0.849273</td>\n",
       "      <td>-0.426831</td>\n",
       "      <td>0.483389</td>\n",
       "      <td>4</td>\n",
       "      <td>-0.472163</td>\n",
       "      <td>14</td>\n",
       "    </tr>\n",
       "    <tr>\n",
       "      <th>2017-03-06</th>\n",
       "      <td>0.782149</td>\n",
       "      <td>1.559336</td>\n",
       "      <td>-0.364098</td>\n",
       "      <td>4</td>\n",
       "      <td>0.560928</td>\n",
       "      <td>15</td>\n",
       "    </tr>\n",
       "    <tr>\n",
       "      <th>2017-03-07</th>\n",
       "      <td>-1.516858</td>\n",
       "      <td>0.134917</td>\n",
       "      <td>-1.235108</td>\n",
       "      <td>4</td>\n",
       "      <td>0.552164</td>\n",
       "      <td>16</td>\n",
       "    </tr>\n",
       "    <tr>\n",
       "      <th>2017-03-08</th>\n",
       "      <td>-0.509215</td>\n",
       "      <td>-1.428890</td>\n",
       "      <td>2.505544</td>\n",
       "      <td>4</td>\n",
       "      <td>-1.736261</td>\n",
       "      <td>17</td>\n",
       "    </tr>\n",
       "  </tbody>\n",
       "</table>\n",
       "</div>"
      ],
      "text/plain": [
       "                   A         B         C  D         E   F\n",
       "2017-03-01  0.000000 -2.032283  2.013236  4  1.093592  10\n",
       "2017-03-02  0.148779  1.000000  0.457113  4 -1.516994  11\n",
       "2017-03-03 -0.858989 -0.193274 -0.727730  4  0.825392  12\n",
       "2017-03-04 -0.777631 -1.458266 -0.309941  4 -0.113530  13\n",
       "2017-03-05  0.849273 -0.426831  0.483389  4 -0.472163  14\n",
       "2017-03-06  0.782149  1.559336 -0.364098  4  0.560928  15\n",
       "2017-03-07 -1.516858  0.134917 -1.235108  4  0.552164  16\n",
       "2017-03-08 -0.509215 -1.428890  2.505544  4 -1.736261  17"
      ]
     },
     "execution_count": 98,
     "metadata": {},
     "output_type": "execute_result"
    }
   ],
   "source": [
    "df7"
   ]
  },
  {
   "cell_type": "code",
   "execution_count": null,
   "metadata": {},
   "outputs": [],
   "source": []
  }
 ],
 "metadata": {
  "kernelspec": {
   "display_name": "Python 3",
   "language": "python",
   "name": "python3"
  },
  "language_info": {
   "codemirror_mode": {
    "name": "ipython",
    "version": 3
   },
   "file_extension": ".py",
   "mimetype": "text/x-python",
   "name": "python",
   "nbconvert_exporter": "python",
   "pygments_lexer": "ipython3",
   "version": "3.6.3"
  }
 },
 "nbformat": 4,
 "nbformat_minor": 2
}
